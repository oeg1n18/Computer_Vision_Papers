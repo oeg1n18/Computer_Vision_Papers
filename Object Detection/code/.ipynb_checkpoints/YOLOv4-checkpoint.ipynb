{
 "cells": [
  {
   "cell_type": "code",
   "execution_count": null,
   "id": "c23ed07b",
   "metadata": {},
   "outputs": [],
   "source": [
    "import torch\n",
    "import torch_snippets"
   ]
  },
  {
   "cell_type": "code",
   "execution_count": null,
   "id": "043e8c53",
   "metadata": {},
   "outputs": [],
   "source": [
    "!git clone https://github.com/AlexeyAB/darknet\n",
    "%cd darknet"
   ]
  },
  {
   "cell_type": "markdown",
   "id": "7ba8db4a",
   "metadata": {},
   "source": [
    "## Reconfigure the Makefile "
   ]
  },
  {
   "cell_type": "code",
   "execution_count": null,
   "id": "f5a72309",
   "metadata": {},
   "outputs": [],
   "source": [
    "# sed is replacing opencv=0 with opencv=1 in the darknet makefile \n",
    "# this is forcing it to install with opencv \n",
    "\n",
    "!sed -i 's/OPENCV=0/OPENCV=1/' Makefile\n",
    "\n",
    "if torch.cuda.is_available():\n",
    "    !sed -i 's/GPU=0/GPU=1' Makefile\n",
    "    !sed -i 's/CUDNN=0/CUDNN=1/' Makefile\n",
    "    !sed -i 's/CUDNN_HALF=0/CUDNN_HALF=1/' Makefile"
   ]
  },
  {
   "cell_type": "markdown",
   "id": "8847ad57",
   "metadata": {},
   "source": [
    "## Compile the Makefile "
   ]
  },
  {
   "cell_type": "code",
   "execution_count": null,
   "id": "1bfe5023",
   "metadata": {},
   "outputs": [],
   "source": [
    "!make"
   ]
  },
  {
   "cell_type": "markdown",
   "id": "7d0a8fb1",
   "metadata": {},
   "source": [
    "## Download the dataset"
   ]
  },
  {
   "cell_type": "code",
   "execution_count": null,
   "id": "d7aef287",
   "metadata": {},
   "outputs": [],
   "source": [
    "!wget --quiet https://www.dropbox.com/s/agmzwk95v96ihic/open-images-bus-trucks.tar.xz\n",
    "!tar -xf open-images-bus-trucks.tar.xz\n",
    "!rm open-images-bus-trucks.tar.xz"
   ]
  },
  {
   "cell_type": "markdown",
   "id": "0c69f07b",
   "metadata": {},
   "source": [
    "## Download YOLO Weights"
   ]
  },
  {
   "cell_type": "code",
   "execution_count": null,
   "id": "644d111f",
   "metadata": {},
   "outputs": [],
   "source": [
    "!wget --quiet https://github.com/AlexeyAB/darknet/releases/download/darknet_yolo_v3_optimal/yolov4.weights"
   ]
  },
  {
   "cell_type": "markdown",
   "id": "df0bf810",
   "metadata": {},
   "source": [
    "## Check it is installed"
   ]
  },
  {
   "cell_type": "code",
   "execution_count": null,
   "id": "5ac1e672",
   "metadata": {},
   "outputs": [],
   "source": [
    "!./darknet detector test cfg/coco.data cfg/yolov4.cfg yolov4.weights data/person.jpg"
   ]
  },
  {
   "cell_type": "markdown",
   "id": "46fb1fed",
   "metadata": {},
   "source": [
    "# Setting up the dataset format"
   ]
  },
  {
   "cell_type": "code",
   "execution_count": null,
   "id": "fc2b1750",
   "metadata": {},
   "outputs": [],
   "source": [
    "%%writefile data/obj.names\n",
    "bus\n",
    "truck"
   ]
  },
  {
   "cell_type": "code",
   "execution_count": null,
   "id": "95320abe",
   "metadata": {},
   "outputs": [],
   "source": [
    "%%writefile data/obj.data\n",
    "classes = 2\n",
    "train = data/train.txt\n",
    "valid = data/val.txt\n",
    "names = data/obj.names\n",
    "backup = backup/"
   ]
  },
  {
   "cell_type": "markdown",
   "id": "d09d4459",
   "metadata": {},
   "source": []
  },
  {
   "cell_type": "code",
   "execution_count": null,
   "id": "af14ff5c",
   "metadata": {},
   "outputs": [],
   "source": [
    "# move the images and ground truth text files to data/obj folder \n",
    "\n",
    "# Make the data directory\n",
    "!mkdir -p data/obj"
   ]
  },
  {
   "cell_type": "code",
   "execution_count": null,
   "id": "0b195352",
   "metadata": {},
   "outputs": [],
   "source": [
    "# copy the images to the data/obj directory\n",
    "!cp -r open-images-bus-trucks/images/* data/obj/"
   ]
  },
  {
   "cell_type": "code",
   "execution_count": null,
   "id": "da20e9d9",
   "metadata": {},
   "outputs": [],
   "source": [
    "# move the train and text labels to data/\n",
    "!cp -r open-images-bus-trucks/yolo_labels/all/{train,val}.txt data/"
   ]
  },
  {
   "cell_type": "code",
   "execution_count": null,
   "id": "0106d858",
   "metadata": {},
   "outputs": [],
   "source": [
    "# move the \n",
    "!find ./open-images-bus-trucks/yolo_labels/all/labels -name \"*.txt\" -exec cp {} ./data/obj/ \\;"
   ]
  },
  {
   "cell_type": "code",
   "execution_count": null,
   "id": "cc2ac134",
   "metadata": {},
   "outputs": [],
   "source": [
    "# Each of the labels files is a text file with structure [cls, xc, yc, w, h]"
   ]
  },
  {
   "cell_type": "markdown",
   "id": "34c2660a",
   "metadata": {},
   "source": [
    "# Configuring the Network"
   ]
  },
  {
   "cell_type": "code",
   "execution_count": null,
   "id": "da2186de",
   "metadata": {},
   "outputs": [],
   "source": [
    "# create a copy of existing configuration and modify it in place\n",
    "!cp cfg/yolov4-tiny-custom.cfg cfg/yolov4-tiny-bus-trucks.cfg\n",
    "\n",
    "# max_batches to 4000 (since the dataset is small enough)\n",
    "!sed -i 's/max_batches = 500200/max_batches=4000/' cfg/yolov4-tiny-bus-trucks.cfg\n",
    "\n",
    "# number of sub-batches per batch\n",
    "!sed -i 's/subdivisions=1/subdivisions=16/' cfg/yolov4-tiny-bus-trucks.cfg\n",
    "\n",
    "# number of batches after which learning rate is decayed\n",
    "!sed -i 's/steps=400000,450000/steps=3200,3600/' cfg/yolov4-tiny-bus-trucks.cfg\n",
    "\n",
    "# number of classes is 2 as opposed to 80 (which is the number of COCO classes)\n",
    "!sed -i 's/classes=80/classes=2/g' cfg/yolov4-tiny-bus-trucks.cfg\n",
    "\n",
    "# in the classification and regression heads, change number of output convolution filters\n",
    "# from 255 -> 21 and 57 -> 33, since we have fewer classes we don't need as many filters\n",
    "!sed -i 's/filters=255/filters=21/g' cfg/yolov4-tiny-bus-trucks.cfg\n",
    "!sed -i 's/filters=57/filters=33/g' cfg/yolov4-tiny-bus-trucks.cfg"
   ]
  },
  {
   "cell_type": "markdown",
   "id": "9da4ec0a",
   "metadata": {},
   "source": [
    "# Training the Model"
   ]
  },
  {
   "cell_type": "code",
   "execution_count": null,
   "id": "cbd88383",
   "metadata": {},
   "outputs": [],
   "source": [
    "# Download the model into the weights then and load them into the model \n",
    "!wget --quiet https://github.com/AlexeyAB/darknet/releases/download/darknet_yolo_v4_pre/yolov4-tiny.conv.29\n",
    "    \n",
    "!cp yolov4-tiny.conv.29 build/darknet/x64"
   ]
  },
  {
   "cell_type": "code",
   "execution_count": null,
   "id": "d840c124",
   "metadata": {},
   "outputs": [],
   "source": [
    "!./darknet detector train data/obj.data cfg/yolov4-tiny-bus-trucks.cfg yolov4-tiny.conv.29 -dont_show -mapLastAt"
   ]
  },
  {
   "cell_type": "markdown",
   "id": "5d9bab59",
   "metadata": {},
   "source": [
    "# Evaluation"
   ]
  },
  {
   "cell_type": "code",
   "execution_count": null,
   "id": "a24ca75f",
   "metadata": {},
   "outputs": [],
   "source": [
    "from torch_snippets import Glob, stem, show, read\n",
    "import glob\n",
    "\n",
    "image_paths = glob.glob(\"/Users/olivergrainge/Documents/RCNN/darknet/test_images/*\")\n",
    "for f in image_paths:\n",
    "    print(f)\n",
    "    !./darknet detector test data/obj.data cfg/yolov4-tiny-bus-trucks.cfg\\\n",
    "    backup/yolov4-tiny-bus-trucks_last.weights {f}\n",
    "    !mv predictions.jpg {stem(f)}_pred.jpg\n",
    "for i in Glob('*_pred.jpg'):\n",
    "    show(read(i, 1), sz=20)"
   ]
  },
  {
   "cell_type": "code",
   "execution_count": null,
   "id": "4332655b",
   "metadata": {},
   "outputs": [],
   "source": []
  }
 ],
 "metadata": {
  "kernelspec": {
   "display_name": "Python 3 (ipykernel)",
   "language": "python",
   "name": "python3"
  },
  "language_info": {
   "codemirror_mode": {
    "name": "ipython",
    "version": 3
   },
   "file_extension": ".py",
   "mimetype": "text/x-python",
   "name": "python",
   "nbconvert_exporter": "python",
   "pygments_lexer": "ipython3",
   "version": "3.8.13"
  }
 },
 "nbformat": 4,
 "nbformat_minor": 5
}
