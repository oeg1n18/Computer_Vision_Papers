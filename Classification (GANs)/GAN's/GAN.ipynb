{
 "cells": [
  {
   "cell_type": "code",
   "execution_count": 1,
   "id": "b157d395-10e1-4386-a122-7ae782046a21",
   "metadata": {},
   "outputs": [
    {
     "name": "stderr",
     "output_type": "stream",
     "text": [
      "C:\\Users\\olive\\miniconda3\\envs\\torch_env\\lib\\site-packages\\tqdm\\auto.py:22: TqdmWarning: IProgress not found. Please update jupyter and ipywidgets. See https://ipywidgets.readthedocs.io/en/stable/user_install.html\n",
      "  from .autonotebook import tqdm as notebook_tqdm\n"
     ]
    },
    {
     "name": "stdout",
     "output_type": "stream",
     "text": [
      "Downloading http://yann.lecun.com/exdb/mnist/train-images-idx3-ubyte.gz\n",
      "Downloading http://yann.lecun.com/exdb/mnist/train-images-idx3-ubyte.gz to C:\\Users\\olive/data\\MNIST\\raw\\train-images-idx3-ubyte.gz\n"
     ]
    },
    {
     "name": "stderr",
     "output_type": "stream",
     "text": [
      "100%|██████████████████████████████████████████████████████████████████| 9912422/9912422 [00:00<00:00, 62534066.00it/s]\n"
     ]
    },
    {
     "name": "stdout",
     "output_type": "stream",
     "text": [
      "Extracting C:\\Users\\olive/data\\MNIST\\raw\\train-images-idx3-ubyte.gz to C:\\Users\\olive/data\\MNIST\\raw\n",
      "\n",
      "Downloading http://yann.lecun.com/exdb/mnist/train-labels-idx1-ubyte.gz\n",
      "Downloading http://yann.lecun.com/exdb/mnist/train-labels-idx1-ubyte.gz to C:\\Users\\olive/data\\MNIST\\raw\\train-labels-idx1-ubyte.gz\n"
     ]
    },
    {
     "name": "stderr",
     "output_type": "stream",
     "text": [
      "100%|███████████████████████████████████████████████████████████████████████| 28881/28881 [00:00<00:00, 1925019.37it/s]\n"
     ]
    },
    {
     "name": "stdout",
     "output_type": "stream",
     "text": [
      "Extracting C:\\Users\\olive/data\\MNIST\\raw\\train-labels-idx1-ubyte.gz to C:\\Users\\olive/data\\MNIST\\raw\n",
      "\n",
      "Downloading http://yann.lecun.com/exdb/mnist/t10k-images-idx3-ubyte.gz\n",
      "Downloading http://yann.lecun.com/exdb/mnist/t10k-images-idx3-ubyte.gz to C:\\Users\\olive/data\\MNIST\\raw\\t10k-images-idx3-ubyte.gz\n"
     ]
    },
    {
     "name": "stderr",
     "output_type": "stream",
     "text": [
      "100%|██████████████████████████████████████████████████████████████████| 1648877/1648877 [00:00<00:00, 24489613.69it/s]\n"
     ]
    },
    {
     "name": "stdout",
     "output_type": "stream",
     "text": [
      "Extracting C:\\Users\\olive/data\\MNIST\\raw\\t10k-images-idx3-ubyte.gz to C:\\Users\\olive/data\\MNIST\\raw\n",
      "\n",
      "Downloading http://yann.lecun.com/exdb/mnist/t10k-labels-idx1-ubyte.gz\n",
      "Downloading http://yann.lecun.com/exdb/mnist/t10k-labels-idx1-ubyte.gz to C:\\Users\\olive/data\\MNIST\\raw\\t10k-labels-idx1-ubyte.gz\n"
     ]
    },
    {
     "name": "stderr",
     "output_type": "stream",
     "text": [
      "100%|██████████████████████████████████████████████████████████████████████████████████████| 4542/4542 [00:00<?, ?it/s]"
     ]
    },
    {
     "name": "stdout",
     "output_type": "stream",
     "text": [
      "Extracting C:\\Users\\olive/data\\MNIST\\raw\\t10k-labels-idx1-ubyte.gz to C:\\Users\\olive/data\\MNIST\\raw\n",
      "\n"
     ]
    },
    {
     "name": "stderr",
     "output_type": "stream",
     "text": [
      "\n"
     ]
    }
   ],
   "source": [
    "from torch_snippets import *\n",
    "device = \"cuda\" if torch.cuda.is_available() else \"cpu\"\n",
    "from torchvision.utils import make_grid\n",
    "from torchvision.datasets import MNIST\n",
    "from torchvision import transforms\n",
    "\n",
    "transform = transforms.Compose([\n",
    "    transforms.ToTensor(),\n",
    "    transforms.Normalize(mean=(0.5,), std=(0.5,))\n",
    "    ])\n",
    "\n",
    "data_loader = torch.utils.data.DataLoader(MNIST('~/data', train=True, download=True, transform=transform), batch_size=128, shuffle=True, drop_last=True)"
   ]
  },
  {
   "cell_type": "code",
   "execution_count": 6,
   "id": "c8b407e7-72b4-4fb7-a801-df73c51886c9",
   "metadata": {},
   "outputs": [],
   "source": [
    "class Discriminator(nn.Module):\n",
    "    def __init__(self):\n",
    "        super().__init__()\n",
    "        self.model = nn.Sequential(\n",
    "            nn.Linear(784, 1024), \n",
    "            nn.LeakyReLU(0.2),\n",
    "            nn.Dropout(0.3), \n",
    "            nn.Linear(1024, 512),\n",
    "            nn.LeakyReLU(0.2),\n",
    "            nn.Dropout(0.3),\n",
    "            nn.Linear(512,256),\n",
    "            nn.LeakyReLU(0.2),\n",
    "            nn.Dropout(0.3),\n",
    "            nn.Linear(256,1),\n",
    "            nn.Sigmoid()\n",
    "        )\n",
    "    def forward(self, x): return self.model(x)"
   ]
  },
  {
   "cell_type": "code",
   "execution_count": 13,
   "id": "1e9894c9-7153-4233-95e3-d430fcea5cb1",
   "metadata": {},
   "outputs": [],
   "source": [
    "from torchsummary import summary\n",
    "discriminator = Discriminator().to(device)\n"
   ]
  },
  {
   "cell_type": "code",
   "execution_count": 16,
   "id": "34ea2b8a-5d3f-4a87-bb14-1a1781d34691",
   "metadata": {},
   "outputs": [],
   "source": [
    "class Generator(nn.Module):\n",
    "    def __init__(self):\n",
    "        super().__init__()\n",
    "        self.model = nn.Sequential(\n",
    "            nn.Linear(100,256),\n",
    "            nn.LeakyReLU(0.2),\n",
    "            nn.Linear(256, 512),\n",
    "            nn.LeakyReLU(0.2),\n",
    "            nn.Linear(512,1024),\n",
    "            nn.LeakyReLU(0.2),\n",
    "            nn.Linear(1024, 784),\n",
    "            nn.Tanh()\n",
    "        )\n",
    "    def forward(self, x): return self.model(x)"
   ]
  },
  {
   "cell_type": "code",
   "execution_count": 17,
   "id": "c7e0dfa7-9c4a-4dd0-bd7e-8ebf9395c088",
   "metadata": {},
   "outputs": [],
   "source": [
    "generator = Generator().to(device)\n"
   ]
  },
  {
   "cell_type": "code",
   "execution_count": 27,
   "id": "55fd8445-95fa-42a2-a83c-2c343476a44f",
   "metadata": {},
   "outputs": [],
   "source": [
    "def noise(size):\n",
    "    n = torch.randn(size,100)\n",
    "    return n.to(device)"
   ]
  },
  {
   "cell_type": "code",
   "execution_count": 49,
   "id": "2fcd0941-49f5-4bd7-b9b8-cd9cf3b8f51d",
   "metadata": {},
   "outputs": [],
   "source": [
    "def discriminator_train_step(real_data, fake_data):\n",
    "    d_optimizer.zero_grad()\n",
    "    prediction_real = discriminator(real_data)\n",
    "    error_real = loss(prediction_real, torch.ones(len(real_data), 1).to(device))\n",
    "    error_real.backward()\n",
    "    prediction_fake = discriminator(fake_data)\n",
    "    error_fake = loss(prediction_fake, torch.zeros(len(fake_data), 1).to(device))\n",
    "    error_fake.backward()\n",
    "    d_optimizer.step()\n",
    "    return error_real + error_fake"
   ]
  },
  {
   "cell_type": "code",
   "execution_count": 50,
   "id": "ed392a5f-5b44-4061-8434-62eda5fe3251",
   "metadata": {},
   "outputs": [],
   "source": [
    "\n",
    "def generator_train_step(fake_data):\n",
    "    g_optimizer.zero_grad()\n",
    "    prediction = discriminator(fake_data)\n",
    "    error = loss(prediction, torch.ones(len(real_data), 1).to(device))\n",
    "    error.backward()\n",
    "    g_optimizer.step()\n",
    "    return error\n",
    "     "
   ]
  },
  {
   "cell_type": "code",
   "execution_count": 51,
   "id": "c0fb8d3f-6678-4d84-9f55-3b1b971f96b3",
   "metadata": {},
   "outputs": [],
   "source": [
    "\n",
    "discriminator = Discriminator().to(device)\n",
    "generator = Generator().to(device).to(device)\n",
    "d_optimizer = optim.Adam(discriminator.parameters(), lr=0.0002)\n",
    "g_optimizer = optim.Adam(generator.parameters(), lr=0.0002)\n",
    "loss = nn.BCELoss()\n",
    "num_epochs = 200\n",
    "log = Report(num_epochs)"
   ]
  },
  {
   "cell_type": "code",
   "execution_count": null,
   "id": "55382c95-1d3a-460a-a1e6-fa0dbdca2ff8",
   "metadata": {},
   "outputs": [
    {
     "name": "stdout",
     "output_type": "stream",
     "text": [
      "EPOCH: 1.000  d_loss: 0.668  g_loss: 4.285  (12.77s - 2541.54s remaining))\n",
      "EPOCH: 2.000  d_loss: 0.558  g_loss: 5.788  (25.31s - 2505.85s remaining))\n",
      "EPOCH: 3.000  d_loss: 0.857  g_loss: 2.331  (37.69s - 2475.01s remaining)\n",
      "EPOCH: 4.000  d_loss: 0.634  g_loss: 3.144  (50.05s - 2452.34s remaining)\n",
      "EPOCH: 5.000  d_loss: 0.359  g_loss: 3.767  (62.24s - 2427.54s remaining)\n",
      "EPOCH: 6.000  d_loss: 0.326  g_loss: 4.171  (74.57s - 2411.19s remaining)\n",
      "EPOCH: 7.000  d_loss: 0.459  g_loss: 3.265  (87.11s - 2401.78s remaining)\n",
      "EPOCH: 8.000  d_loss: 0.404  g_loss: 3.507  (99.69s - 2392.52s remaining)\n",
      "EPOCH: 9.000  d_loss: 0.429  g_loss: 3.394  (112.26s - 2382.33s remaining)\n",
      "EPOCH: 10.000  d_loss: 0.505  g_loss: 2.935  (124.54s - 2366.31s remaining)\n",
      "EPOCH: 11.000  d_loss: 0.530  g_loss: 2.867  (136.97s - 2353.42s remaining)\n",
      "EPOCH: 12.000  d_loss: 0.501  g_loss: 2.870  (149.66s - 2344.66s remaining)\n",
      "EPOCH: 13.000  d_loss: 0.599  g_loss: 2.521  (162.38s - 2335.72s remaining)\n",
      "EPOCH: 14.000  d_loss: 0.611  g_loss: 2.538  (174.74s - 2321.51s remaining)\n",
      "EPOCH: 15.000  d_loss: 0.641  g_loss: 2.443  (187.32s - 2310.28s remaining)\n",
      "EPOCH: 16.000  d_loss: 0.590  g_loss: 2.497  (199.72s - 2296.79s remaining)\n",
      "EPOCH: 17.000  d_loss: 0.635  g_loss: 2.462  (212.57s - 2288.21s remaining)\n",
      "EPOCH: 18.000  d_loss: 0.691  g_loss: 2.219  (225.34s - 2278.46s remaining)\n",
      "EPOCH: 19.000  d_loss: 0.744  g_loss: 2.104  (238.12s - 2268.44s remaining)\n",
      "EPOCH: 20.000  d_loss: 0.758  g_loss: 2.056  (250.90s - 2258.09s remaining)\n",
      "EPOCH: 21.000  d_loss: 0.759  g_loss: 2.093  (263.52s - 2246.19s remaining)\n",
      "EPOCH: 22.000  d_loss: 0.775  g_loss: 1.999  (276.27s - 2235.30s remaining)\n",
      "EPOCH: 23.000  d_loss: 0.837  g_loss: 1.826  (289.25s - 2226.01s remaining)\n",
      "EPOCH: 24.000  d_loss: 0.841  g_loss: 1.827  (302.28s - 2216.76s remaining)\n",
      "EPOCH: 25.000  d_loss: 0.838  g_loss: 1.819  (315.10s - 2205.68s remaining)\n",
      "EPOCH: 26.000  d_loss: 0.881  g_loss: 1.713  (327.96s - 2194.83s remaining)\n",
      "EPOCH: 27.000  d_loss: 0.867  g_loss: 1.734  (340.62s - 2182.52s remaining)\n",
      "EPOCH: 28.000  d_loss: 0.854  g_loss: 1.745  (353.22s - 2169.81s remaining)\n",
      "EPOCH: 29.000  d_loss: 0.881  g_loss: 1.712  (366.14s - 2158.96s remaining)\n",
      "EPOCH: 30.000  d_loss: 0.891  g_loss: 1.653  (378.95s - 2147.41s remaining)\n",
      "EPOCH: 31.000  d_loss: 0.908  g_loss: 1.633  (391.74s - 2135.62s remaining)\n",
      "EPOCH: 32.000  d_loss: 0.944  g_loss: 1.524  (404.63s - 2124.31s remaining)\n",
      "EPOCH: 33.000  d_loss: 0.949  g_loss: 1.524  (418.18s - 2116.25s remaining)\n",
      "EPOCH: 34.000  d_loss: 0.962  g_loss: 1.500  (432.51s - 2111.67s remaining)\n",
      "EPOCH: 35.000  d_loss: 0.945  g_loss: 1.559  (446.30s - 2103.97s remaining)\n",
      "EPOCH: 36.000  d_loss: 0.959  g_loss: 1.532  (459.01s - 2091.03s remaining)\n",
      "EPOCH: 37.000  d_loss: 0.966  g_loss: 1.474  (471.92s - 2079.02s remaining)\n",
      "EPOCH: 38.000  d_loss: 0.992  g_loss: 1.431  (485.03s - 2067.78s remaining)\n",
      "EPOCH: 39.000  d_loss: 1.006  g_loss: 1.384  (497.88s - 2055.33s remaining)\n",
      "EPOCH: 39.774  d_loss: 0.745  g_loss: 1.774  (507.72s - 2045.35s remaining)"
     ]
    }
   ],
   "source": [
    "\n",
    "for epoch in range(num_epochs):\n",
    "    N = len(data_loader)\n",
    "    for i, (images, _) in enumerate(data_loader):\n",
    "        real_data = images.view(len(images), -1).to(device)\n",
    "        fake_data = generator(noise(len(real_data))).to(device)\n",
    "        fake_data = fake_data.detach()\n",
    "        d_loss = discriminator_train_step(real_data, fake_data)\n",
    "        fake_data = generator(noise(len(real_data))).to(device)\n",
    "        g_loss = generator_train_step(fake_data)\n",
    "        log.record(epoch+(1+i)/N, d_loss=d_loss.item(), g_loss=g_loss.item(), end='\\r')\n",
    "    log.report_avgs(epoch+1)\n",
    "log.plot_epochs(['d_loss', 'g_loss'])\n"
   ]
  },
  {
   "cell_type": "code",
   "execution_count": null,
   "id": "131d4b44-5daf-4658-b41c-bbc0f3b4c286",
   "metadata": {},
   "outputs": [],
   "source": []
  },
  {
   "cell_type": "code",
   "execution_count": null,
   "id": "31f48ed4-19b3-44b0-ae8c-8492ed8868a1",
   "metadata": {},
   "outputs": [],
   "source": []
  },
  {
   "cell_type": "code",
   "execution_count": null,
   "id": "b6dc6af8-89ba-41c0-8e6e-749d23218005",
   "metadata": {},
   "outputs": [],
   "source": []
  },
  {
   "cell_type": "code",
   "execution_count": null,
   "id": "bab315fa-fdfa-46a7-8c49-ecbdf3426eb7",
   "metadata": {},
   "outputs": [],
   "source": []
  },
  {
   "cell_type": "code",
   "execution_count": null,
   "id": "e5ce153d-8949-4d3e-925c-fffe481698cc",
   "metadata": {},
   "outputs": [],
   "source": []
  }
 ],
 "metadata": {
  "kernelspec": {
   "display_name": "Python 3 (ipykernel)",
   "language": "python",
   "name": "python3"
  },
  "language_info": {
   "codemirror_mode": {
    "name": "ipython",
    "version": 3
   },
   "file_extension": ".py",
   "mimetype": "text/x-python",
   "name": "python",
   "nbconvert_exporter": "python",
   "pygments_lexer": "ipython3",
   "version": "3.8.13"
  }
 },
 "nbformat": 4,
 "nbformat_minor": 5
}
