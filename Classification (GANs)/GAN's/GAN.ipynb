{
 "cells": [
  {
   "cell_type": "code",
   "execution_count": 11,
   "id": "b157d395-10e1-4386-a122-7ae782046a21",
   "metadata": {},
   "outputs": [],
   "source": [
    "from torch_snippets import *\n",
    "device = \"cuda\" if torch.cuda.is_available() else \"cpu\"\n",
    "from torchvision.utils import make_grid\n",
    "from torchvision.datasets import MNIST\n",
    "from torchvision import transforms\n",
    "\n",
    "transform = transforms.Compose([\n",
    "    transforms.ToTensor(),\n",
    "    transforms.Normalize(mean=(0.5,), std=(0.5,))\n",
    "    ])\n",
    "\n",
    "data_loader = torch.utils.data.DataLoader(MNIST('~/data', train=True, download=True, transform=transform), batch_size=128, shuffle=True, drop_last=True)"
   ]
  },
  {
   "cell_type": "code",
   "execution_count": 12,
   "id": "c8b407e7-72b4-4fb7-a801-df73c51886c9",
   "metadata": {},
   "outputs": [],
   "source": [
    "class Discriminator(nn.Module):\n",
    "    def __init__(self):\n",
    "        super().__init__()\n",
    "        self.model = nn.Sequential(\n",
    "            nn.Linear(784, 1024), \n",
    "            nn.LeakyReLU(0.2),\n",
    "            nn.Dropout(0.3), \n",
    "            nn.Linear(1024, 512),\n",
    "            nn.LeakyReLU(0.2),\n",
    "            nn.Dropout(0.3),\n",
    "            nn.Linear(512,256),\n",
    "            nn.LeakyReLU(0.2),\n",
    "            nn.Dropout(0.3),\n",
    "            nn.Linear(256,1),\n",
    "            nn.Sigmoid()\n",
    "        )\n",
    "    def forward(self, x): return self.model(x)"
   ]
  },
  {
   "cell_type": "code",
   "execution_count": 13,
   "id": "1e9894c9-7153-4233-95e3-d430fcea5cb1",
   "metadata": {},
   "outputs": [],
   "source": [
    "from torchsummary import summary\n",
    "discriminator = Discriminator().to(device)\n"
   ]
  },
  {
   "cell_type": "code",
   "execution_count": 14,
   "id": "34ea2b8a-5d3f-4a87-bb14-1a1781d34691",
   "metadata": {},
   "outputs": [],
   "source": [
    "class Generator(nn.Module):\n",
    "    def __init__(self):\n",
    "        super().__init__()\n",
    "        self.model = nn.Sequential(\n",
    "            nn.Linear(100,256),\n",
    "            nn.LeakyReLU(0.2),\n",
    "            nn.Linear(256, 512),\n",
    "            nn.LeakyReLU(0.2),\n",
    "            nn.Linear(512,1024),\n",
    "            nn.LeakyReLU(0.2),\n",
    "            nn.Linear(1024, 784),\n",
    "            nn.Tanh()\n",
    "        )\n",
    "    def forward(self, x): return self.model(x)"
   ]
  },
  {
   "cell_type": "code",
   "execution_count": 15,
   "id": "c7e0dfa7-9c4a-4dd0-bd7e-8ebf9395c088",
   "metadata": {},
   "outputs": [],
   "source": [
    "generator = Generator().to(device)\n"
   ]
  },
  {
   "cell_type": "code",
   "execution_count": 16,
   "id": "55fd8445-95fa-42a2-a83c-2c343476a44f",
   "metadata": {},
   "outputs": [],
   "source": [
    "def noise(size):\n",
    "    n = torch.randn(size,100)\n",
    "    return n.to(device)"
   ]
  },
  {
   "cell_type": "code",
   "execution_count": 17,
   "id": "2fcd0941-49f5-4bd7-b9b8-cd9cf3b8f51d",
   "metadata": {},
   "outputs": [],
   "source": [
    "def discriminator_train_step(real_data, fake_data):\n",
    "    d_optimizer.zero_grad()\n",
    "    prediction_real = discriminator(real_data)\n",
    "    error_real = loss(prediction_real, torch.ones(len(real_data), 1).to(device))\n",
    "    error_real.backward()\n",
    "    prediction_fake = discriminator(fake_data)\n",
    "    error_fake = loss(prediction_fake, torch.zeros(len(fake_data), 1).to(device))\n",
    "    error_fake.backward()\n",
    "    d_optimizer.step()\n",
    "    return error_real + error_fake"
   ]
  },
  {
   "cell_type": "code",
   "execution_count": 18,
   "id": "ed392a5f-5b44-4061-8434-62eda5fe3251",
   "metadata": {},
   "outputs": [],
   "source": [
    "\n",
    "def generator_train_step(fake_data):\n",
    "    g_optimizer.zero_grad()\n",
    "    prediction = discriminator(fake_data)\n",
    "    error = loss(prediction, torch.ones(len(real_data), 1).to(device))\n",
    "    error.backward()\n",
    "    g_optimizer.step()\n",
    "    return error\n",
    "     "
   ]
  },
  {
   "cell_type": "code",
   "execution_count": 19,
   "id": "c0fb8d3f-6678-4d84-9f55-3b1b971f96b3",
   "metadata": {},
   "outputs": [],
   "source": [
    "\n",
    "discriminator = Discriminator().to(device)\n",
    "generator = Generator().to(device).to(device)\n",
    "d_optimizer = optim.Adam(discriminator.parameters(), lr=0.0002)\n",
    "g_optimizer = optim.Adam(generator.parameters(), lr=0.0002)\n",
    "loss = nn.BCELoss()\n",
    "num_epochs = 200\n",
    "log = Report(num_epochs)"
   ]
  },
  {
   "cell_type": "code",
   "execution_count": 20,
   "id": "55382c95-1d3a-460a-a1e6-fa0dbdca2ff8",
   "metadata": {},
   "outputs": [
    {
     "name": "stdout",
     "output_type": "stream",
     "text": [
      "EPOCH: 1.000  g_loss: 3.492  d_loss: 0.819  (15.26s - 3037.07s remaining))\n",
      "EPOCH: 2.000  g_loss: 1.825  d_loss: 1.067  (28.24s - 2795.30s remaining)\n",
      "EPOCH: 3.000  g_loss: 2.277  d_loss: 0.812  (42.04s - 2760.69s remaining)\n",
      "EPOCH: 4.000  g_loss: 2.500  d_loss: 0.602  (55.08s - 2699.07s remaining)\n",
      "EPOCH: 5.000  g_loss: 3.565  d_loss: 0.373  (69.03s - 2692.23s remaining)\n",
      "EPOCH: 6.000  g_loss: 3.542  d_loss: 0.453  (82.75s - 2675.48s remaining)\n",
      "EPOCH: 7.000  g_loss: 2.754  d_loss: 0.596  (96.31s - 2655.49s remaining)\n",
      "EPOCH: 8.000  g_loss: 3.105  d_loss: 0.528  (110.03s - 2640.69s remaining)\n",
      "EPOCH: 9.000  g_loss: 3.004  d_loss: 0.511  (123.66s - 2624.28s remaining)\n",
      "EPOCH: 10.000  g_loss: 2.925  d_loss: 0.513  (136.80s - 2599.22s remaining)\n",
      "EPOCH: 11.000  g_loss: 2.715  d_loss: 0.553  (150.51s - 2586.09s remaining)\n",
      "EPOCH: 12.000  g_loss: 2.553  d_loss: 0.585  (163.95s - 2568.54s remaining)\n",
      "EPOCH: 13.000  g_loss: 2.554  d_loss: 0.561  (177.48s - 2553.05s remaining)\n",
      "EPOCH: 14.000  g_loss: 2.374  d_loss: 0.685  (191.22s - 2540.54s remaining)\n",
      "EPOCH: 15.000  g_loss: 2.283  d_loss: 0.677  (204.38s - 2520.66s remaining)\n",
      "EPOCH: 16.000  g_loss: 2.133  d_loss: 0.746  (217.30s - 2498.94s remaining)\n",
      "EPOCH: 17.000  g_loss: 2.109  d_loss: 0.745  (230.72s - 2483.67s remaining)\n",
      "EPOCH: 18.000  g_loss: 2.179  d_loss: 0.715  (244.06s - 2467.68s remaining)\n",
      "EPOCH: 19.000  g_loss: 2.044  d_loss: 0.748  (258.11s - 2458.85s remaining)\n",
      "EPOCH: 20.000  g_loss: 1.944  d_loss: 0.788  (271.55s - 2443.92s remaining)\n",
      "EPOCH: 21.000  g_loss: 1.964  d_loss: 0.787  (284.56s - 2425.54s remaining)\n",
      "EPOCH: 22.000  g_loss: 1.810  d_loss: 0.836  (298.46s - 2414.83s remaining)\n",
      "EPOCH: 23.000  g_loss: 1.884  d_loss: 0.809  (312.23s - 2402.78s remaining)\n",
      "EPOCH: 24.000  g_loss: 1.737  d_loss: 0.875  (325.57s - 2387.53s remaining)\n",
      "EPOCH: 25.000  g_loss: 1.742  d_loss: 0.877  (338.65s - 2370.52s remaining)\n",
      "EPOCH: 25.611  d_loss: 1.063  g_loss: 1.775  (347.24s - 2364.39s remaining)"
     ]
    },
    {
     "ename": "KeyboardInterrupt",
     "evalue": "",
     "output_type": "error",
     "traceback": [
      "\u001b[1;31m---------------------------------------------------------------------------\u001b[0m",
      "\u001b[1;31mKeyboardInterrupt\u001b[0m                         Traceback (most recent call last)",
      "Cell \u001b[1;32mIn[20], line 7\u001b[0m\n\u001b[0;32m      5\u001b[0m fake_data \u001b[38;5;241m=\u001b[39m generator(noise(\u001b[38;5;28mlen\u001b[39m(real_data)))\u001b[38;5;241m.\u001b[39mto(device)\n\u001b[0;32m      6\u001b[0m fake_data \u001b[38;5;241m=\u001b[39m fake_data\u001b[38;5;241m.\u001b[39mdetach()\n\u001b[1;32m----> 7\u001b[0m d_loss \u001b[38;5;241m=\u001b[39m \u001b[43mdiscriminator_train_step\u001b[49m\u001b[43m(\u001b[49m\u001b[43mreal_data\u001b[49m\u001b[43m,\u001b[49m\u001b[43m \u001b[49m\u001b[43mfake_data\u001b[49m\u001b[43m)\u001b[49m\n\u001b[0;32m      8\u001b[0m fake_data \u001b[38;5;241m=\u001b[39m generator(noise(\u001b[38;5;28mlen\u001b[39m(real_data)))\u001b[38;5;241m.\u001b[39mto(device)\n\u001b[0;32m      9\u001b[0m g_loss \u001b[38;5;241m=\u001b[39m generator_train_step(fake_data)\n",
      "Cell \u001b[1;32mIn[17], line 7\u001b[0m, in \u001b[0;36mdiscriminator_train_step\u001b[1;34m(real_data, fake_data)\u001b[0m\n\u001b[0;32m      5\u001b[0m error_real\u001b[38;5;241m.\u001b[39mbackward()\n\u001b[0;32m      6\u001b[0m prediction_fake \u001b[38;5;241m=\u001b[39m discriminator(fake_data)\n\u001b[1;32m----> 7\u001b[0m error_fake \u001b[38;5;241m=\u001b[39m loss(prediction_fake, \u001b[43mtorch\u001b[49m\u001b[38;5;241;43m.\u001b[39;49m\u001b[43mzeros\u001b[49m\u001b[43m(\u001b[49m\u001b[38;5;28;43mlen\u001b[39;49m\u001b[43m(\u001b[49m\u001b[43mfake_data\u001b[49m\u001b[43m)\u001b[49m\u001b[43m,\u001b[49m\u001b[43m \u001b[49m\u001b[38;5;241;43m1\u001b[39;49m\u001b[43m)\u001b[49m\u001b[38;5;241;43m.\u001b[39;49m\u001b[43mto\u001b[49m\u001b[43m(\u001b[49m\u001b[43mdevice\u001b[49m\u001b[43m)\u001b[49m)\n\u001b[0;32m      8\u001b[0m error_fake\u001b[38;5;241m.\u001b[39mbackward()\n\u001b[0;32m      9\u001b[0m d_optimizer\u001b[38;5;241m.\u001b[39mstep()\n",
      "\u001b[1;31mKeyboardInterrupt\u001b[0m: "
     ]
    }
   ],
   "source": [
    "\n",
    "for epoch in range(num_epochs):\n",
    "    N = len(data_loader)\n",
    "    for i, (images, _) in enumerate(data_loader):\n",
    "        real_data = images.view(len(images), -1).to(device)\n",
    "        fake_data = generator(noise(len(real_data))).to(device)\n",
    "        fake_data = fake_data.detach()\n",
    "        d_loss = discriminator_train_step(real_data, fake_data)\n",
    "        fake_data = generator(noise(len(real_data))).to(device)\n",
    "        g_loss = generator_train_step(fake_data)\n",
    "        log.record(epoch+(1+i)/N, d_loss=d_loss.item(), g_loss=g_loss.item(), end='\\r')\n",
    "    log.report_avgs(epoch+1)\n",
    "log.plot_epochs(['d_loss', 'g_loss'])\n"
   ]
  },
  {
   "cell_type": "code",
   "execution_count": null,
   "id": "131d4b44-5daf-4658-b41c-bbc0f3b4c286",
   "metadata": {},
   "outputs": [],
   "source": [
    "z = torch.randn(64, 100).to(device)\n",
    "sample_images = generator(z).data.cpu().view(64, 1, 28, 28)\n",
    "grid = make_grid(sample_images, nrow=8, normalize=True)\n",
    "show(grid.cpu().detach().permute(1,2,0), sz=5)"
   ]
  },
  {
   "cell_type": "code",
   "execution_count": null,
   "id": "31f48ed4-19b3-44b0-ae8c-8492ed8868a1",
   "metadata": {},
   "outputs": [],
   "source": []
  },
  {
   "cell_type": "code",
   "execution_count": null,
   "id": "b6dc6af8-89ba-41c0-8e6e-749d23218005",
   "metadata": {},
   "outputs": [],
   "source": []
  },
  {
   "cell_type": "code",
   "execution_count": null,
   "id": "bab315fa-fdfa-46a7-8c49-ecbdf3426eb7",
   "metadata": {},
   "outputs": [],
   "source": []
  },
  {
   "cell_type": "code",
   "execution_count": null,
   "id": "e5ce153d-8949-4d3e-925c-fffe481698cc",
   "metadata": {},
   "outputs": [],
   "source": []
  }
 ],
 "metadata": {
  "kernelspec": {
   "display_name": "Python 3 (ipykernel)",
   "language": "python",
   "name": "python3"
  },
  "language_info": {
   "codemirror_mode": {
    "name": "ipython",
    "version": 3
   },
   "file_extension": ".py",
   "mimetype": "text/x-python",
   "name": "python",
   "nbconvert_exporter": "python",
   "pygments_lexer": "ipython3",
   "version": "3.8.13"
  }
 },
 "nbformat": 4,
 "nbformat_minor": 5
}
