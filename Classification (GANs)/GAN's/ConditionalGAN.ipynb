{
 "cells": [
  {
   "cell_type": "code",
   "execution_count": 1,
   "id": "787a265e-4762-4a89-85e9-1163c0e9004b",
   "metadata": {},
   "outputs": [
    {
     "name": "stderr",
     "output_type": "stream",
     "text": [
      "C:\\Users\\olive\\miniconda3\\envs\\torch_env\\lib\\site-packages\\tqdm\\auto.py:22: TqdmWarning: IProgress not found. Please update jupyter and ipywidgets. See https://ipywidgets.readthedocs.io/en/stable/user_install.html\n",
      "  from .autonotebook import tqdm as notebook_tqdm\n"
     ]
    }
   ],
   "source": [
    "from torch_snippets import *\n",
    "device = \"cuda\" if torch.cuda.is_available() else \"cpu\"\n",
    "from torchvision.utils import make_grid\n",
    "from PIL import Image\n",
    "import torchvision\n",
    "from torchvision import transforms\n",
    "import torchvision.utils as vutils"
   ]
  },
  {
   "cell_type": "code",
   "execution_count": 2,
   "id": "df9a8e3c-384e-480b-83d8-18cb174746f6",
   "metadata": {},
   "outputs": [],
   "source": [
    "female_images = Glob(os.getcwd() + '/content/females/*.jpg')\n",
    "male_images = Glob(os.getcwd() + '/content/males/*.jpg')\n"
   ]
  },
  {
   "cell_type": "code",
   "execution_count": 3,
   "id": "81e78721-f021-4fdf-98a7-51ff28212e12",
   "metadata": {},
   "outputs": [],
   "source": [
    "face_cascade = cv2.CascadeClassifier(cv2.data.haarcascades + 'haarcascade_frontalface_default.xml')"
   ]
  },
  {
   "cell_type": "code",
   "execution_count": 10,
   "id": "237a4cbd-1af8-446e-a531-75368dca016b",
   "metadata": {},
   "outputs": [],
   "source": [
    "\n",
    "def crop_images(folder):\n",
    "    images = Glob(os.getcwd() + '/content/' + folder + '/*.jpg')\n",
    "    for i in range(len(images)):\n",
    "        img = read(female_images[i], 1)\n",
    "        gray = cv2.cvtColor(img, cv2.COLOR_BGR2GRAY)\n",
    "        faces = face_cascade.detectMultiScale(gray, 1.3, 5)\n",
    "        for (x,y,w,h) in faces:\n",
    "            img2 = img[y:(y+h), x:(x+w),:]\n",
    "            cv2.imwrite('cropped_faces_'+folder+'/'+str(i)+'.jpg',cv2.cvtColor(img2, cv2.COLOR_RGB2BGR))\n",
    "\n"
   ]
  },
  {
   "cell_type": "raw",
   "id": "141facd2-7bc1-4c08-8a0c-13c32ee02d0d",
   "metadata": {},
   "source": []
  },
  {
   "cell_type": "code",
   "execution_count": 11,
   "id": "25358ab7-e0ee-438c-a98e-15cd0ac5e598",
   "metadata": {},
   "outputs": [
    {
     "data": {
      "text/plain": [
       "\"C:\\\\Users\\\\olive\\\\OneDrive - University of Southampton\\\\Desktop\\\\Computer_Vision_Papers\\\\Classification (GANs)\\\\GAN's\""
      ]
     },
     "execution_count": 11,
     "metadata": {},
     "output_type": "execute_result"
    }
   ],
   "source": [
    "os.getcwd()"
   ]
  },
  {
   "cell_type": "code",
   "execution_count": 12,
   "id": "e9b65ff7-cb66-4322-9e28-834fae225dde",
   "metadata": {},
   "outputs": [],
   "source": [
    "\n",
    "crop_images('females')\n",
    "crop_images('males')"
   ]
  },
  {
   "cell_type": "code",
   "execution_count": 15,
   "id": "0ad885c9-e3b9-459c-8344-ea200793e9d1",
   "metadata": {},
   "outputs": [],
   "source": [
    "transform = transforms.Compose([\n",
    "                                transforms.Resize(64),\n",
    "                                transforms.CenterCrop(64),\n",
    "                                transforms.ToTensor(),\n",
    "    transforms.Normalize((0.5,0.5,0.5), (0.5,0.5,0.5))])"
   ]
  },
  {
   "cell_type": "code",
   "execution_count": 18,
   "id": "8ae72a83-38fb-4951-a1a9-be38f44542a4",
   "metadata": {},
   "outputs": [],
   "source": [
    "class Faces(Dataset):\n",
    "    def __init__(self, folders):\n",
    "        super().__init__()\n",
    "        self.folderfemale = folders[0]\n",
    "        self.foldermale = folders[1]\n",
    "        self.images = sorted(Glob(os.getcwd() + '/' + self.folderfemale))+sorted(Glob(os.getcwd() + '/' + self.foldermale))\n",
    "    \n",
    "    def __len__(self):\n",
    "        return len(self.images)\n",
    "    def __getitem__(self, ix):\n",
    "        image_path = self.images[ix]\n",
    "        image = Image.open(image_path)\n",
    "        image = transform(image)\n",
    "        gender = np.where('female' in image_path, 1, 0)\n",
    "        return image, torch.tensor(gender).long()"
   ]
  },
  {
   "cell_type": "code",
   "execution_count": 20,
   "id": "a65c141c-d0c2-4a8f-b801-a347b96df91f",
   "metadata": {},
   "outputs": [],
   "source": [
    "ds = Faces(folders=['cropped_faces_females', 'cropped_faces_males'])\n",
    "dataloader = DataLoader(ds, batch_size=64, shuffle=True, num_workers=8)"
   ]
  },
  {
   "cell_type": "code",
   "execution_count": 21,
   "id": "cf9ec37a-996c-481b-abea-6b3ec1a117bf",
   "metadata": {},
   "outputs": [],
   "source": [
    "def weights_init(m):\n",
    "    classname = m.__class__.__name__\n",
    "    if classname.find('Conv') != -1:\n",
    "        nn.init.normal_(m.weight.data, 0.0, 0.02)\n",
    "    elif classname.find('BatchNorm') != -1:\n",
    "        nn.init.normal_(m.weight.data, 1.0, 0.02)\n",
    "        nn.init.constant_(m.bias.data,0)"
   ]
  },
  {
   "cell_type": "code",
   "execution_count": 22,
   "id": "69fd5e19-1e93-4874-a862-b24c503490f7",
   "metadata": {},
   "outputs": [],
   "source": [
    "class Discriminator(nn.Module):\n",
    "    def __init__(self, emb_size=32):\n",
    "        super(Discriminator, self).__init__()\n",
    "        self.emb_size = emb_size\n",
    "        self.label_embeddings = nn.Embedding(2, self.emb_size)\n",
    "        self.model = nn.Sequential(\n",
    "            nn.Conv2d(3,64,4,2,1,bias=False),\n",
    "            nn.LeakyReLU(0.2,inplace=True),\n",
    "            nn.Conv2d(64,64*2,4,2,1,bias=False),\n",
    "            nn.BatchNorm2d(64*2),\n",
    "            nn.LeakyReLU(0.2,inplace=True),\n",
    "            nn.Conv2d(64*2,64*4,4,2,1,bias=False),\n",
    "            nn.BatchNorm2d(64*4),\n",
    "            nn.LeakyReLU(0.2,inplace=True),\n",
    "            nn.Conv2d(64*4, 64*8, 4,2,1,bias=False),\n",
    "            nn.BatchNorm2d(64*8),\n",
    "            nn.LeakyReLU(0.2,inplace=True),\n",
    "            nn.Conv2d(64*8,64,4,2,1,bias=False),\n",
    "            nn.BatchNorm2d(64),\n",
    "            nn.LeakyReLU(0.2, inplace=True),\n",
    "            nn.Flatten()\n",
    "        )\n",
    "        \n",
    "        self.model2 = nn.Sequential(\n",
    "            nn.Linear(288,100),\n",
    "            nn.LeakyReLU(0.2,inplace=True),\n",
    "            nn.Linear(100,1),\n",
    "            nn.Sigmoid()\n",
    "        )\n",
    "        self.apply(weights_init)\n",
    "        \n",
    "    def forward(self, input, labels):\n",
    "        x = self.model(input)\n",
    "        y = self.label_embeddings(labels)\n",
    "        input = torch.cat([x,y],1)\n",
    "        final_outpu = self.model2(input)\n",
    "        return final_output\n",
    "            "
   ]
  },
  {
   "cell_type": "code",
   "execution_count": 23,
   "id": "7720f2e9-a145-45be-a818-132a3b397c16",
   "metadata": {},
   "outputs": [],
   "source": [
    "class Generator(nn.Module):\n",
    "    def __init__(self, emb_size=32):\n",
    "        super(Generator, self).__init__()\n",
    "        self.emb_size = emb_size\n",
    "        self.label_embeddings = nn.Embedding(2, self.emb_size)\n",
    "        self.model = nn.Sequential(\n",
    "            nn.ConvTranspose2d(100 + self.emb_size, 64*8, 4, 1, 0, bias=False),\n",
    "            nn.BatchNorm2d(64*8),\n",
    "            nn.ReLU(True),\n",
    "            nn.ConvTranspose2d(64*8,64*4,4,2,1,bias=False),\n",
    "            nn.BatchNorm2d(64*4),\n",
    "            nn.ReLU(True),\n",
    "            nn.ConvTranspose2d(64*4,64*2,4,2,1,bias=False),\n",
    "            nn.BatchNorm2d(64*2),\n",
    "            nn.ReLU(True),\n",
    "            nn.ConvTranspose2d(64*2,64,4,2,1,bias=False),\n",
    "            nn.BatchNorm2d(64),\n",
    "            nn.ReLU(True),\n",
    "            nn.ConvTranspose2d(64,3,4,2,1,bias=False),\n",
    "            nn.Tanh())\n",
    "        \n",
    "        self.apply(weights_init)\n",
    "    \n",
    "    def forward(self, input_noise, labels):\n",
    "        label_embeddings = self.label_embeddings(labels).view(len(labels), self.emb_size,1, 1)\n",
    "        input = torch.cat([input_noise, label_embeddings], 1)\n",
    "        return self.model(input)"
   ]
  },
  {
   "cell_type": "code",
   "execution_count": 24,
   "id": "68fcc605-34e2-4abd-8127-349e87ff7734",
   "metadata": {},
   "outputs": [],
   "source": [
    "discriminator = Discriminator().to(device)\n",
    "generator = Generator().to(device)"
   ]
  },
  {
   "cell_type": "code",
   "execution_count": 25,
   "id": "aee50bdd-ceef-4dc6-8dac-589a100176df",
   "metadata": {},
   "outputs": [],
   "source": [
    "def noise(size):\n",
    "    n = torch.randn(size, 100, 1, 1, device=device)\n",
    "    return n.to(device)"
   ]
  },
  {
   "cell_type": "code",
   "execution_count": 26,
   "id": "7c10afc5-9fdd-47e9-b6f0-51db7a1f4687",
   "metadata": {},
   "outputs": [],
   "source": [
    "def discriminator_train_step(real_data, real_labels, fake_data, fake_labels):\n",
    "    d_optimizer.zero_grad()\n",
    "    prediction_fake = discriminator(fake_data, fake_labels)\n",
    "    prediction_real = discriminator(real_data, real_labels)\n",
    "    error_real = loss(prediction_real, torch.ones(len(real_data),1).to(device))\n",
    "    error_real.backward()\n",
    "    error_fake = loss(prediction_fake, torch.zeros(len(fake_data),1).to(device))\n",
    "    error_fake.backward()\n",
    "    d_optimizer.step()\n",
    "    return error_real"
   ]
  },
  {
   "cell_type": "code",
   "execution_count": 27,
   "id": "8cf041b8-f6b8-4cb7-bea9-5b616142d199",
   "metadata": {},
   "outputs": [],
   "source": [
    "def generator_train_step(fake_data, fake_labels):\n",
    "    g_optimizer.zero_grad()\n",
    "    prediction = discriminator(fake_data, fake_labels)\n",
    "    error = loss(prediction, torch.ones(len(fake_data), 1).to(device))\n",
    "    error.backward()\n",
    "    g_optimizer.step()\n",
    "    return error"
   ]
  },
  {
   "cell_type": "code",
   "execution_count": 28,
   "id": "174a9594-5bc5-4c37-80a7-8484da2410b5",
   "metadata": {},
   "outputs": [],
   "source": [
    "loss = nn.BCELoss()\n",
    "d_optimizer = optim.Adam(discriminator.parameters(), lr=0.0002, betas=(0.5, 0.999))\n",
    "g_optimizer = optim.Adam(generator.parameters(), lr=0.0002, betas=(0.5,0.999))\n",
    "fixed_noise = torch.randn(64, 100, 1, 1, device=device)\n",
    "fixed_fake_labels = torch.LongTensor([0]*(len(fixed_noise)//2) + [1]*(len(fixed_noise)//2)).to(device)\n",
    "\n",
    "n_epochs = 25\n",
    "img_list = []"
   ]
  },
  {
   "cell_type": "code",
   "execution_count": null,
   "id": "3b1eefdc-fe1a-439c-9d05-0b1103c5310e",
   "metadata": {},
   "outputs": [],
   "source": [
    "log = Report(n_epochs)\n",
    "for epoch in range(n_epochs):\n",
    "    for bx, (image, labels) in enumerate(dataloader):\n",
    "        real_data, real_labels = images.to(device), labels.to(device)\n",
    "        fake_labels = torch.LongTensor(np.random.randint(0, 2, len(real_data))).to(device)\n",
    "        fake_data = generator(noise(len(real_data)), fake_labels)\n",
    "        fake_data = fake_data.detach()\n",
    "        d_loss = discriminator_train_step(real_data, real_labels, fake_data, fake_labels)\n",
    "        fake_labels = torch.LongTensor(np.random.randint(0, 2, len(real_data))).to(device)\n",
    "        g_loss = generator_train_step(fake_data, fake_labels)\n",
    "        \n",
    "        pos = epoch + (1+bx)/N\n",
    "        log.record(pos, d_loss=d_loss.detach(), g_loss=g_loss.detach(), end='/r')\n",
    "    log.report_avgs(epoch+1)"
   ]
  },
  {
   "cell_type": "code",
   "execution_count": null,
   "id": "d1dee136-f146-4cb6-8d5b-3bfac8fea20b",
   "metadata": {},
   "outputs": [],
   "source": [
    "with torch.no_grad():\n",
    "    fake = generator(fixed_noise, fixed_fake_labels).detach().cpu()\n",
    "    imgs = vutils.make_grid(fake, padding=2, normalize=True.permute(1,2,0))\n",
    "    img_list.append(imgs)\n",
    "    show(imgs, sz=10))"
   ]
  },
  {
   "cell_type": "code",
   "execution_count": null,
   "id": "cd028010-32cd-419b-873a-a76a1a44c734",
   "metadata": {},
   "outputs": [],
   "source": []
  }
 ],
 "metadata": {
  "kernelspec": {
   "display_name": "Python 3 (ipykernel)",
   "language": "python",
   "name": "python3"
  },
  "language_info": {
   "codemirror_mode": {
    "name": "ipython",
    "version": 3
   },
   "file_extension": ".py",
   "mimetype": "text/x-python",
   "name": "python",
   "nbconvert_exporter": "python",
   "pygments_lexer": "ipython3",
   "version": "3.8.13"
  }
 },
 "nbformat": 4,
 "nbformat_minor": 5
}
