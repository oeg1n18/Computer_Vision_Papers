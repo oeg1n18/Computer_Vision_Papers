{
 "cells": [
  {
   "cell_type": "code",
   "execution_count": 3,
   "id": "a9014edc-f419-4833-a0a4-1ea6825cf774",
   "metadata": {},
   "outputs": [],
   "source": [
    "from torch_snippets import *\n",
    "import torchvision \n",
    "from torchvision import transforms \n",
    "import torchvision.utils as vutils\n",
    "import cv2, numpy as np, pandas as pd\n",
    "import glob\n",
    "device = \"cuda\" if torch.cuda.is_available() else \"cpu\""
   ]
  },
  {
   "cell_type": "code",
   "execution_count": 2,
   "id": "d48dddf1-ae4d-4a47-9b71-29b182b806ac",
   "metadata": {},
   "outputs": [],
   "source": [
    "face_cascade = cv2.CascadeClassifier(cv2.data.haarcascades + 'haarcascade_frontalface_default.xml')"
   ]
  },
  {
   "cell_type": "code",
   "execution_count": null,
   "id": "c8495334-67f4-4ff8-b627-cec50ba5f89a",
   "metadata": {},
   "outputs": [],
   "source": [
    "!mkdir cropped_faces\n",
    "images = Glob('/content/females/*.jpg') + glob('/content/males/*.jpg')\n",
    "for i in range(len(images)\n"
   ]
  }
 ],
 "metadata": {
  "kernelspec": {
   "display_name": "Python 3 (ipykernel)",
   "language": "python",
   "name": "python3"
  },
  "language_info": {
   "codemirror_mode": {
    "name": "ipython",
    "version": 3
   },
   "file_extension": ".py",
   "mimetype": "text/x-python",
   "name": "python",
   "nbconvert_exporter": "python",
   "pygments_lexer": "ipython3",
   "version": "3.8.13"
  }
 },
 "nbformat": 4,
 "nbformat_minor": 5
}
