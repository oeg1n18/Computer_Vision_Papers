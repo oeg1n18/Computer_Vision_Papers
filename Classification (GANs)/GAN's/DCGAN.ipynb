{
 "cells": [
  {
   "cell_type": "code",
   "execution_count": null,
   "id": "a9014edc-f419-4833-a0a4-1ea6825cf774",
   "metadata": {},
   "outputs": [],
   "source": [
    "from torch_snippets import *\n",
    "import torchvision \n",
    "from torchvision import transforms \n",
    "import torchvision.utils as vutils\n",
    "import cv2, numpy as np, pandas as pd\n",
    "import glob\n",
    "import os\n",
    "\n",
    "device = \"cuda\" if torch.cuda.is_available() else \"cpu\"\n",
    "os.getcwd()"
   ]
  },
  {
   "cell_type": "code",
   "execution_count": null,
   "id": "4ed76e89-7dbd-493d-a730-e194bbd494b2",
   "metadata": {},
   "outputs": [],
   "source": []
  },
  {
   "cell_type": "code",
   "execution_count": null,
   "id": "d48dddf1-ae4d-4a47-9b71-29b182b806ac",
   "metadata": {},
   "outputs": [],
   "source": [
    "face_cascade = cv2.CascadeClassifier(cv2.data.haarcascades + 'haarcascade_frontalface_default.xml')"
   ]
  },
  {
   "cell_type": "code",
   "execution_count": 16,
   "id": "c8495334-67f4-4ff8-b627-cec50ba5f89a",
   "metadata": {},
   "outputs": [],
   "source": [
    "#!mkdir cropped_faces\n",
    "images = glob.glob(os.getcwd() + '/content/females/*.jpg') + glob.glob(os.getcwd() + '/content/males/*.jpg')\n",
    "for i in range(len(images)):\n",
    "    img = read(images[i],1)\n",
    "    gray = cv2.cvtColor(img, cv2.COLOR_BGR2GRAY)\n",
    "    faces = face_cascade.detectMultiScale(gray, 1.3, 5)\n",
    "    for (x,y,w,h) in faces:\n",
    "        img2 = img[y:(y+h),x:(x+w),:]\n",
    "        cv2.imwrite('cropped_faces/'+str(i)+'.jpg', cv2.cvtColor(img2, cv2.COLOR_RGB2BGR))\n"
   ]
  },
  {
   "cell_type": "code",
   "execution_count": null,
   "id": "3a222ea5-1fab-418f-9179-e5fa08603205",
   "metadata": {},
   "outputs": [],
   "source": [
    "transform=transforms.Compose([\n",
    "    transforms.Resize(64),\n",
    "    transforms.CenterCrop(64),\n",
    "    transforms.ToTensor(),\n",
    "    transforms.Normalize((0.5,0.5,0.5), (0.5,0.5,0.5))])"
   ]
  },
  {
   "cell_type": "code",
   "execution_count": null,
   "id": "d374c36c-dbed-433d-894c-5c51c0413275",
   "metadata": {},
   "outputs": [],
   "source": [
    "class Faces(Dataset):\n",
    "    def __init__(self, folder):\n",
    "        super().__init__()\n",
    "        self.folder = folder\n",
    "        self.images = sorted(Glob(folder))\n",
    "    \n",
    "    def __len__(self):\n",
    "        return len(self.images)\n",
    "    \n",
    "    def __getitem__(self, ix):\n",
    "        image_path = self.images[ix]\n",
    "        image = Image.open(image_path)\n",
    "        image = transform(image)\n",
    "        return image"
   ]
  },
  {
   "cell_type": "code",
   "execution_count": null,
   "id": "f766bf65-b2e6-483d-b3e3-852dedab273d",
   "metadata": {},
   "outputs": [],
   "source": [
    "ds = Faces(folder='cropped_faces/')\n",
    "dataloader = DataLoader(ds, batch_size=64, shuffle=True)"
   ]
  },
  {
   "cell_type": "code",
   "execution_count": null,
   "id": "36cdb1b3-ea8c-4fbe-ba08-0beee9ce51d7",
   "metadata": {},
   "outputs": [],
   "source": []
  },
  {
   "cell_type": "code",
   "execution_count": null,
   "id": "2b567ad1-98f0-4684-8038-5d1e945aea76",
   "metadata": {},
   "outputs": [],
   "source": [
    "def weights_init(m):\n",
    "    classname = m.__class__.__name__\n",
    "    if classname.find('Conv') != -1:\n",
    "        nn.init.normal_(m.weight.data, 0.0, 0.02)\n",
    "    elif classname.find('BatchNorm') != -1:\n",
    "        nn.init.normal_(m.weight.data, 1.0, 0.02)\n",
    "        nn.init.constant_(m.bias.data, 0)"
   ]
  },
  {
   "cell_type": "code",
   "execution_count": null,
   "id": "52ebe1a3-592f-4873-bcf2-f5be02f3af3d",
   "metadata": {},
   "outputs": [],
   "source": [
    "class Discriminator(nn.Module):\n",
    "    def __init__(self):\n",
    "        super(Discriminator, self).__init__()\n",
    "        self.model = nn.Sequential(\n",
    "                                    nn.Conv2d(3,64,4,2,1,bias=False),\n",
    "            nn.LeakyReLU(0.2,inplace=True),\n",
    "            nn.Conv2d(64,64*2,4,2,1,bias=False),\n",
    "            nn.BatchNorm2d(64*2),\n",
    "            nn.LeakyReLU(0.2,inplace=True),\n",
    "            nn.Conv2d(64*2,64*4,4,2,1,bias=False),\n",
    "            nn.BatchNorm2d(64*4),\n",
    "            nn.LeakyReLU(0.2,inplace=True),\n",
    "            nn.Conv2d(64*4, 64*8,4,2,1,bias=False),\n",
    "            nn.BatchNorm2d(64*8),\n",
    "            nn.LeakyReLU(0.2,inplace=True),\n",
    "            nn.Conv2d(64*8,1,4,1,0,bias=False),\n",
    "            nn.Sigmoid()\n",
    "        )\n",
    "        \n",
    "        self.apply(weights_init)\n",
    "    def forward(self, input):\n",
    "        return self.model(input)"
   ]
  },
  {
   "cell_type": "code",
   "execution_count": null,
   "id": "fa3e7bba-7519-43ac-a7f2-e8d7e126c0c4",
   "metadata": {},
   "outputs": [],
   "source": [
    "class Generator(nn.Module):\n",
    "    def __init__(self):\n",
    "        super(Generator, self).__init__()\n",
    "        self.model = nn.Sequential(\n",
    "            nn.ConvTranspose2d(100,64*8,4,1,0,bias=False,),\n",
    "            nn.BatchNorm2d(64*8),\n",
    "            nn.ReLU(True),\n",
    "            nn.ConvTranspose2d(64*8,64*4,4,2,1,bias=False),\n",
    "            nn.BatchNorm2d(64*4),\n",
    "            nn.ReLU(True),\n",
    "            nn.ConvTranspose2d(64*4,64*2,4,2,1,bias=False),\n",
    "            nn.BatchNorm2d(64*2),\n",
    "            nn.ReLU(True),\n",
    "            nn.ConvTranspose2d(64*2,64,4,2,1,bias=False),\n",
    "            nn.BatchNorm2d(64),\n",
    "            nn.ReLU(True),\n",
    "            nn.ConvTranspose2d(64,3,4,2,1,bias=False),\n",
    "            nn.Tanh()\n",
    "        )\n",
    "        self.apply(weights_init)\n",
    "        \n",
    "    def forward(self,input): return self.model(input)"
   ]
  },
  {
   "cell_type": "code",
   "execution_count": null,
   "id": "9f6d3d44-8dbb-45a6-b52d-dd65fa71d706",
   "metadata": {},
   "outputs": [],
   "source": [
    "discriminator = Discriminator().to(device)\n",
    "generator = Generator().to(device)"
   ]
  },
  {
   "cell_type": "code",
   "execution_count": null,
   "id": "63e9a4ec-99d4-4861-b421-db8a63f1bca4",
   "metadata": {},
   "outputs": [],
   "source": [
    "def discriminator_train_step(real_data, fake_data):\n",
    "    d_optimizer.zero_grad()\n",
    "    prediction_real = discriminator(real_data)\n",
    "    error_real = loss(prediction_real.squeeze(), torch.ones(len(real_data)).to(device))\n",
    "    error_real.backward()\n",
    "    prediction_fake = discriminator(fake_data)\n",
    "    error_fake = loss(prediction_fake.squeeze(), torch.zeros(len(fake_data)).to(device))\n",
    "    error_fake.backward()\n",
    "    d_optimizer.step()\n",
    "    return error_real + error_fake"
   ]
  },
  {
   "cell_type": "code",
   "execution_count": 11,
   "id": "56fcde0f-e145-4d32-9f28-bbc4bb3c76b1",
   "metadata": {},
   "outputs": [],
   "source": [
    "def generator_train_step(fake_data):\n",
    "    g_optimizer.zero_grad()\n",
    "    prediction = discriminator(fake_data)\n",
    "    error = loss(prediction.squeeze(), torch.ones(len(real_data)).to(device))\n",
    "    error.backward()\n",
    "    g_optimizer.step()\n",
    "    return error\n",
    "     "
   ]
  },
  {
   "cell_type": "code",
   "execution_count": 12,
   "id": "b1e6e4ca-e1ef-49d5-9443-3908f92a5d1c",
   "metadata": {},
   "outputs": [],
   "source": [
    "loss = nn.BCELoss()\n",
    "d_optimizer = optim.Adam(discriminator.parameters(), lr=0.0002, betas=(0.5, 0.999))\n",
    "g_optimizer = optim.Adam(generator.parameters(), lr=0.0002, betas=(0.5, 0.999))"
   ]
  },
  {
   "cell_type": "code",
   "execution_count": 13,
   "id": "a2bc63f0-2bc0-4e13-952a-bc5645822d75",
   "metadata": {},
   "outputs": [
    {
     "data": {
      "text/html": [
       "<pre style=\"white-space:pre;overflow-x:auto;line-height:normal;font-family:Menlo,'DejaVu Sans Mono',consolas,'Courier New',monospace\">hello\n",
       "</pre>\n"
      ],
      "text/plain": [
       "hello\n"
      ]
     },
     "metadata": {},
     "output_type": "display_data"
    },
    {
     "data": {
      "text/html": [
       "<pre style=\"white-space:pre;overflow-x:auto;line-height:normal;font-family:Menlo,'DejaVu Sans Mono',consolas,'Courier New',monospace\">h\n",
       "</pre>\n"
      ],
      "text/plain": [
       "h\n"
      ]
     },
     "metadata": {},
     "output_type": "display_data"
    },
    {
     "data": {
      "text/html": [
       "<pre style=\"white-space:pre;overflow-x:auto;line-height:normal;font-family:Menlo,'DejaVu Sans Mono',consolas,'Courier New',monospace\">l\n",
       "</pre>\n"
      ],
      "text/plain": [
       "l\n"
      ]
     },
     "metadata": {},
     "output_type": "display_data"
    },
    {
     "data": {
      "text/html": [
       "<pre style=\"white-space:pre;overflow-x:auto;line-height:normal;font-family:Menlo,'DejaVu Sans Mono',consolas,'Courier New',monospace\">p\n",
       "</pre>\n"
      ],
      "text/plain": [
       "p\n"
      ]
     },
     "metadata": {},
     "output_type": "display_data"
    },
    {
     "name": "stdout",
     "output_type": "stream",
     "text": [
      "EPOCH: 1.000  d_loss: 1.496  g_loss: 3.020  (2.15s - 51.50s remaining)ng)\n",
      "EPOCH: 1.000  d_loss: 1.478  g_loss: 3.973  (2.36s - 56.52s remaining)ng)\n",
      "EPOCH: 1.000  d_loss: 1.119  g_loss: 4.799  (2.56s - 61.35s remaining)g)\n",
      "EPOCH: 1.000  d_loss: 0.882  g_loss: 5.195  (2.77s - 66.36s remaining)g)\n",
      "EPOCH: 1.000  d_loss: 0.733  g_loss: 5.429  (2.96s - 71.14s remaining)g)\n",
      "EPOCH: 1.000  d_loss: 0.655  g_loss: 5.618  (3.18s - 76.42s remaining)g)\n",
      "EPOCH: 1.000  d_loss: 0.602  g_loss: 5.775  (3.38s - 81.23s remaining)g)\n",
      "EPOCH: 1.000  d_loss: 0.550  g_loss: 5.888  (3.59s - 86.27s remaining)g)\n",
      "EPOCH: 1.000  d_loss: 0.513  g_loss: 6.073  (3.80s - 91.19s remaining)g)\n",
      "EPOCH: 1.000  d_loss: 0.474  g_loss: 6.195  (3.99s - 95.83s remaining)g)\n",
      "EPOCH: 1.000  d_loss: 0.443  g_loss: 6.298  (4.19s - 100.60s remaining))\n",
      "EPOCH: 1.000  d_loss: 0.421  g_loss: 6.455  (4.41s - 105.75s remaining))\n",
      "EPOCH: 1.000  d_loss: 0.394  g_loss: 6.618  (4.62s - 110.95s remaining))\n",
      "EPOCH: 1.000  d_loss: 0.371  g_loss: 6.732  (4.83s - 115.99s remaining))\n",
      "EPOCH: 1.000  d_loss: 0.354  g_loss: 6.862  (5.04s - 120.98s remaining))\n",
      "EPOCH: 1.000  d_loss: 0.340  g_loss: 6.977  (5.24s - 125.68s remaining))\n",
      "EPOCH: 1.000  d_loss: 0.326  g_loss: 7.087  (5.43s - 130.26s remaining))\n",
      "EPOCH: 1.000  d_loss: 0.312  g_loss: 7.240  (5.62s - 134.87s remaining))\n",
      "EPOCH: 1.000  d_loss: 0.300  g_loss: 7.302  (5.82s - 139.64s remaining))\n",
      "EPOCH: 1.000  d_loss: 0.292  g_loss: 7.465  (6.02s - 144.38s remaining)g)\n",
      "EPOCH: 1.000  d_loss: 0.280  g_loss: 7.557  (6.21s - 149.05s remaining))\n",
      "EPOCH: 1.000  d_loss: 0.270  g_loss: 7.630  (6.42s - 154.20s remaining))\n",
      "EPOCH: 1.000  d_loss: 0.263  g_loss: 7.832  (6.65s - 159.56s remaining)g)\n",
      "EPOCH: 1.000  d_loss: 0.256  g_loss: 7.933  (6.87s - 164.80s remaining)g)\n",
      "EPOCH: 1.000  d_loss: 0.250  g_loss: 8.020  (7.09s - 170.20s remaining)g)\n",
      "EPOCH: 1.000  d_loss: 0.244  g_loss: 8.125  (7.32s - 175.58s remaining)g)\n",
      "EPOCH: 1.000  d_loss: 0.236  g_loss: 8.212  (7.55s - 181.11s remaining)g)\n",
      "EPOCH: 1.000  d_loss: 0.229  g_loss: 8.258  (7.78s - 186.67s remaining))\n",
      "EPOCH: 1.000  d_loss: 0.225  g_loss: 8.381  (8.02s - 192.47s remaining)g)\n",
      "EPOCH: 1.000  d_loss: 0.218  g_loss: 8.446  (8.25s - 197.98s remaining)g)\n",
      "EPOCH: 1.000  d_loss: 0.212  g_loss: 8.469  (8.49s - 203.85s remaining))\n",
      "EPOCH: 1.000  d_loss: 0.210  g_loss: 8.649  (8.73s - 209.42s remaining)g)\n",
      "EPOCH: 1.000  d_loss: 0.205  g_loss: 8.794  (8.97s - 215.21s remaining)g)\n",
      "EPOCH: 1.000  d_loss: 0.200  g_loss: 8.803  (9.20s - 220.92s remaining))\n",
      "EPOCH: 1.000  d_loss: 0.197  g_loss: 8.954  (9.46s - 226.94s remaining)g)\n",
      "EPOCH: 1.000  d_loss: 0.193  g_loss: 9.072  (9.70s - 232.90s remaining)g)\n",
      "EPOCH: 1.000  d_loss: 0.188  g_loss: 9.082  (9.94s - 238.61s remaining))\n",
      "EPOCH: 1.000  d_loss: 0.186  g_loss: 9.253  (10.20s - 244.84s remaining)g)\n",
      "EPOCH: 1.000  d_loss: 0.183  g_loss: 9.422  (10.45s - 250.87s remaining)g)\n",
      "EPOCH: 1.000  d_loss: 0.180  g_loss: 9.485  (10.71s - 257.08s remaining)g)\n",
      "EPOCH: 1.000  d_loss: 0.177  g_loss: 9.412  (10.97s - 263.23s remaining))\n",
      "EPOCH: 1.000  d_loss: 0.191  g_loss: 9.912  (11.22s - 269.39s remaining)g)\n",
      "EPOCH: 1.000  d_loss: 0.192  g_loss: 10.545  (11.49s - 275.72s remaining))\n",
      "EPOCH: 1.000  d_loss: 0.189  g_loss: 11.196  (11.75s - 281.97s remaining))\n",
      "EPOCH: 1.000  d_loss: 0.186  g_loss: 11.838  (12.00s - 287.91s remaining))\n",
      "EPOCH: 1.000  d_loss: 0.182  g_loss: 12.460  (12.26s - 294.15s remaining))\n",
      "EPOCH: 1.000  d_loss: 0.179  g_loss: 13.052  (12.51s - 300.31s remaining))\n",
      "EPOCH: 1.000  d_loss: 0.176  g_loss: 13.622  (12.77s - 306.42s remaining))\n",
      "EPOCH: 1.000  d_loss: 0.172  g_loss: 14.171  (13.11s - 314.69s remaining))\n",
      "EPOCH: 1.000  d_loss: 0.169  g_loss: 14.694  (13.31s - 319.51s remaining))\n",
      "EPOCH: 1.000  d_loss: 0.165  g_loss: 15.196  (13.51s - 324.16s remaining))\n",
      "EPOCH: 1.000  d_loss: 0.162  g_loss: 15.681  (13.72s - 329.29s remaining))\n",
      "EPOCH: 1.000  d_loss: 0.159  g_loss: 16.146  (13.92s - 334.13s remaining))\n",
      "EPOCH: 1.000  d_loss: 0.156  g_loss: 16.597  (14.12s - 338.92s remaining))\n",
      "EPOCH: 1.000  d_loss: 0.154  g_loss: 17.025  (14.32s - 343.65s remaining))\n",
      "EPOCH: 1.000  d_loss: 0.151  g_loss: 17.441  (14.52s - 348.52s remaining))\n",
      "EPOCH: 1.000  d_loss: 0.148  g_loss: 17.841  (14.72s - 353.23s remaining))\n",
      "EPOCH: 1.000  d_loss: 0.146  g_loss: 18.226  (14.92s - 358.16s remaining))\n",
      "EPOCH: 1.000  d_loss: 0.143  g_loss: 18.598  (15.14s - 363.40s remaining))\n",
      "EPOCH: 1.000  d_loss: 0.141  g_loss: 18.952  (15.37s - 368.88s remaining))\n"
     ]
    },
    {
     "ename": "KeyboardInterrupt",
     "evalue": "",
     "output_type": "error",
     "traceback": [
      "\u001b[1;31m---------------------------------------------------------------------------\u001b[0m",
      "\u001b[1;31mKeyboardInterrupt\u001b[0m                         Traceback (most recent call last)",
      "Cell \u001b[1;32mIn[13], line 8\u001b[0m\n\u001b[0;32m      6\u001b[0m N \u001b[38;5;241m=\u001b[39m \u001b[38;5;28mlen\u001b[39m(dataloader)\n\u001b[0;32m      7\u001b[0m \u001b[38;5;28mprint\u001b[39m(\u001b[38;5;124m\"\u001b[39m\u001b[38;5;124mp\u001b[39m\u001b[38;5;124m\"\u001b[39m)\n\u001b[1;32m----> 8\u001b[0m \u001b[38;5;28;01mfor\u001b[39;00m i, images, \u001b[38;5;129;01min\u001b[39;00m \u001b[38;5;28menumerate\u001b[39m(dataloader):\n\u001b[0;32m      9\u001b[0m     real_data \u001b[38;5;241m=\u001b[39m images\u001b[38;5;241m.\u001b[39mto(device)\n\u001b[0;32m     10\u001b[0m     fake_data \u001b[38;5;241m=\u001b[39m generator(torch\u001b[38;5;241m.\u001b[39mrandn(\u001b[38;5;28mlen\u001b[39m(real_data), \u001b[38;5;241m100\u001b[39m, \u001b[38;5;241m1\u001b[39m, \u001b[38;5;241m1\u001b[39m)\u001b[38;5;241m.\u001b[39mto(device))\u001b[38;5;241m.\u001b[39mto(device)\n",
      "File \u001b[1;32m~\\miniconda3\\envs\\torch_env\\lib\\site-packages\\torch\\utils\\data\\dataloader.py:628\u001b[0m, in \u001b[0;36m_BaseDataLoaderIter.__next__\u001b[1;34m(self)\u001b[0m\n\u001b[0;32m    625\u001b[0m \u001b[38;5;28;01mif\u001b[39;00m \u001b[38;5;28mself\u001b[39m\u001b[38;5;241m.\u001b[39m_sampler_iter \u001b[38;5;129;01mis\u001b[39;00m \u001b[38;5;28;01mNone\u001b[39;00m:\n\u001b[0;32m    626\u001b[0m     \u001b[38;5;66;03m# TODO(https://github.com/pytorch/pytorch/issues/76750)\u001b[39;00m\n\u001b[0;32m    627\u001b[0m     \u001b[38;5;28mself\u001b[39m\u001b[38;5;241m.\u001b[39m_reset()  \u001b[38;5;66;03m# type: ignore[call-arg]\u001b[39;00m\n\u001b[1;32m--> 628\u001b[0m data \u001b[38;5;241m=\u001b[39m \u001b[38;5;28;43mself\u001b[39;49m\u001b[38;5;241;43m.\u001b[39;49m\u001b[43m_next_data\u001b[49m\u001b[43m(\u001b[49m\u001b[43m)\u001b[49m\n\u001b[0;32m    629\u001b[0m \u001b[38;5;28mself\u001b[39m\u001b[38;5;241m.\u001b[39m_num_yielded \u001b[38;5;241m+\u001b[39m\u001b[38;5;241m=\u001b[39m \u001b[38;5;241m1\u001b[39m\n\u001b[0;32m    630\u001b[0m \u001b[38;5;28;01mif\u001b[39;00m \u001b[38;5;28mself\u001b[39m\u001b[38;5;241m.\u001b[39m_dataset_kind \u001b[38;5;241m==\u001b[39m _DatasetKind\u001b[38;5;241m.\u001b[39mIterable \u001b[38;5;129;01mand\u001b[39;00m \\\n\u001b[0;32m    631\u001b[0m         \u001b[38;5;28mself\u001b[39m\u001b[38;5;241m.\u001b[39m_IterableDataset_len_called \u001b[38;5;129;01mis\u001b[39;00m \u001b[38;5;129;01mnot\u001b[39;00m \u001b[38;5;28;01mNone\u001b[39;00m \u001b[38;5;129;01mand\u001b[39;00m \\\n\u001b[0;32m    632\u001b[0m         \u001b[38;5;28mself\u001b[39m\u001b[38;5;241m.\u001b[39m_num_yielded \u001b[38;5;241m>\u001b[39m \u001b[38;5;28mself\u001b[39m\u001b[38;5;241m.\u001b[39m_IterableDataset_len_called:\n",
      "File \u001b[1;32m~\\miniconda3\\envs\\torch_env\\lib\\site-packages\\torch\\utils\\data\\dataloader.py:671\u001b[0m, in \u001b[0;36m_SingleProcessDataLoaderIter._next_data\u001b[1;34m(self)\u001b[0m\n\u001b[0;32m    669\u001b[0m \u001b[38;5;28;01mdef\u001b[39;00m \u001b[38;5;21m_next_data\u001b[39m(\u001b[38;5;28mself\u001b[39m):\n\u001b[0;32m    670\u001b[0m     index \u001b[38;5;241m=\u001b[39m \u001b[38;5;28mself\u001b[39m\u001b[38;5;241m.\u001b[39m_next_index()  \u001b[38;5;66;03m# may raise StopIteration\u001b[39;00m\n\u001b[1;32m--> 671\u001b[0m     data \u001b[38;5;241m=\u001b[39m \u001b[38;5;28;43mself\u001b[39;49m\u001b[38;5;241;43m.\u001b[39;49m\u001b[43m_dataset_fetcher\u001b[49m\u001b[38;5;241;43m.\u001b[39;49m\u001b[43mfetch\u001b[49m\u001b[43m(\u001b[49m\u001b[43mindex\u001b[49m\u001b[43m)\u001b[49m  \u001b[38;5;66;03m# may raise StopIteration\u001b[39;00m\n\u001b[0;32m    672\u001b[0m     \u001b[38;5;28;01mif\u001b[39;00m \u001b[38;5;28mself\u001b[39m\u001b[38;5;241m.\u001b[39m_pin_memory:\n\u001b[0;32m    673\u001b[0m         data \u001b[38;5;241m=\u001b[39m _utils\u001b[38;5;241m.\u001b[39mpin_memory\u001b[38;5;241m.\u001b[39mpin_memory(data, \u001b[38;5;28mself\u001b[39m\u001b[38;5;241m.\u001b[39m_pin_memory_device)\n",
      "File \u001b[1;32m~\\miniconda3\\envs\\torch_env\\lib\\site-packages\\torch\\utils\\data\\_utils\\fetch.py:58\u001b[0m, in \u001b[0;36m_MapDatasetFetcher.fetch\u001b[1;34m(self, possibly_batched_index)\u001b[0m\n\u001b[0;32m     56\u001b[0m         data \u001b[38;5;241m=\u001b[39m \u001b[38;5;28mself\u001b[39m\u001b[38;5;241m.\u001b[39mdataset\u001b[38;5;241m.\u001b[39m__getitems__(possibly_batched_index)\n\u001b[0;32m     57\u001b[0m     \u001b[38;5;28;01melse\u001b[39;00m:\n\u001b[1;32m---> 58\u001b[0m         data \u001b[38;5;241m=\u001b[39m [\u001b[38;5;28mself\u001b[39m\u001b[38;5;241m.\u001b[39mdataset[idx] \u001b[38;5;28;01mfor\u001b[39;00m idx \u001b[38;5;129;01min\u001b[39;00m possibly_batched_index]\n\u001b[0;32m     59\u001b[0m \u001b[38;5;28;01melse\u001b[39;00m:\n\u001b[0;32m     60\u001b[0m     data \u001b[38;5;241m=\u001b[39m \u001b[38;5;28mself\u001b[39m\u001b[38;5;241m.\u001b[39mdataset[possibly_batched_index]\n",
      "File \u001b[1;32m~\\miniconda3\\envs\\torch_env\\lib\\site-packages\\torch\\utils\\data\\_utils\\fetch.py:58\u001b[0m, in \u001b[0;36m<listcomp>\u001b[1;34m(.0)\u001b[0m\n\u001b[0;32m     56\u001b[0m         data \u001b[38;5;241m=\u001b[39m \u001b[38;5;28mself\u001b[39m\u001b[38;5;241m.\u001b[39mdataset\u001b[38;5;241m.\u001b[39m__getitems__(possibly_batched_index)\n\u001b[0;32m     57\u001b[0m     \u001b[38;5;28;01melse\u001b[39;00m:\n\u001b[1;32m---> 58\u001b[0m         data \u001b[38;5;241m=\u001b[39m [\u001b[38;5;28;43mself\u001b[39;49m\u001b[38;5;241;43m.\u001b[39;49m\u001b[43mdataset\u001b[49m\u001b[43m[\u001b[49m\u001b[43midx\u001b[49m\u001b[43m]\u001b[49m \u001b[38;5;28;01mfor\u001b[39;00m idx \u001b[38;5;129;01min\u001b[39;00m possibly_batched_index]\n\u001b[0;32m     59\u001b[0m \u001b[38;5;28;01melse\u001b[39;00m:\n\u001b[0;32m     60\u001b[0m     data \u001b[38;5;241m=\u001b[39m \u001b[38;5;28mself\u001b[39m\u001b[38;5;241m.\u001b[39mdataset[possibly_batched_index]\n",
      "Cell \u001b[1;32mIn[4], line 12\u001b[0m, in \u001b[0;36mFaces.__getitem__\u001b[1;34m(self, ix)\u001b[0m\n\u001b[0;32m     10\u001b[0m \u001b[38;5;28;01mdef\u001b[39;00m \u001b[38;5;21m__getitem__\u001b[39m(\u001b[38;5;28mself\u001b[39m, ix):\n\u001b[0;32m     11\u001b[0m     image_path \u001b[38;5;241m=\u001b[39m \u001b[38;5;28mself\u001b[39m\u001b[38;5;241m.\u001b[39mimages[ix]\n\u001b[1;32m---> 12\u001b[0m     image \u001b[38;5;241m=\u001b[39m \u001b[43mImage\u001b[49m\u001b[38;5;241;43m.\u001b[39;49m\u001b[43mopen\u001b[49m\u001b[43m(\u001b[49m\u001b[43mimage_path\u001b[49m\u001b[43m)\u001b[49m\n\u001b[0;32m     13\u001b[0m     image \u001b[38;5;241m=\u001b[39m transform(image)\n\u001b[0;32m     14\u001b[0m     \u001b[38;5;28;01mreturn\u001b[39;00m image\n",
      "File \u001b[1;32m~\\miniconda3\\envs\\torch_env\\lib\\site-packages\\PIL\\Image.py:3092\u001b[0m, in \u001b[0;36mopen\u001b[1;34m(fp, mode, formats)\u001b[0m\n\u001b[0;32m   3089\u001b[0m     filename \u001b[38;5;241m=\u001b[39m fp\n\u001b[0;32m   3091\u001b[0m \u001b[38;5;28;01mif\u001b[39;00m filename:\n\u001b[1;32m-> 3092\u001b[0m     fp \u001b[38;5;241m=\u001b[39m \u001b[43mbuiltins\u001b[49m\u001b[38;5;241;43m.\u001b[39;49m\u001b[43mopen\u001b[49m\u001b[43m(\u001b[49m\u001b[43mfilename\u001b[49m\u001b[43m,\u001b[49m\u001b[43m \u001b[49m\u001b[38;5;124;43m\"\u001b[39;49m\u001b[38;5;124;43mrb\u001b[39;49m\u001b[38;5;124;43m\"\u001b[39;49m\u001b[43m)\u001b[49m\n\u001b[0;32m   3093\u001b[0m     exclusive_fp \u001b[38;5;241m=\u001b[39m \u001b[38;5;28;01mTrue\u001b[39;00m\n\u001b[0;32m   3095\u001b[0m \u001b[38;5;28;01mtry\u001b[39;00m:\n",
      "\u001b[1;31mKeyboardInterrupt\u001b[0m: "
     ]
    }
   ],
   "source": [
    "\n",
    "log = Report(25)\n",
    "for epoch in range(25):\n",
    "    N = len(dataloader)\n",
    "\n",
    "    for i, images, in enumerate(dataloader):\n",
    "        real_data = images.to(device)\n",
    "        fake_data = generator(torch.randn(len(real_data), 100, 1, 1).to(device)).to(device)\n",
    "        fake_data = fake_data.detach()\n",
    "        d_loss = discriminator_train_step(real_data, fake_data)\n",
    "        fake_data = generator(torch.randn(len(real_data), 100, 1, 1).to(device)).to(device)\n",
    "        g_loss = generator_train_step(fake_data)\n",
    "        log.record(epoch+(1+i)/N, d_loss=d_loss.item(), g_loss=g_loss.item(), end='\\r')\n",
    "    log.report_avgs(epoch+1)\n",
    "log.plot_epochs(['d_loss','g_loss'])"
   ]
  },
  {
   "cell_type": "code",
   "execution_count": null,
   "id": "a2be7ba2-1906-4db2-988c-f93afaa614c5",
   "metadata": {},
   "outputs": [],
   "source": [
    "generator.eval()\n",
    "noise = torch.randn(64, 100, 1, 1, device=device)\n",
    "sample_images = generator(noise).detach().cpu()\n",
    "grid = vutils.make_grid(sample_images, nrow=8, normalize=True)\n",
    "show(grid.cpu().detach().permute(1,2,0), sz=10, titl='Generated Images')"
   ]
  },
  {
   "cell_type": "code",
   "execution_count": null,
   "id": "dffff3d9-8425-4e31-8b0b-074db92ea97b",
   "metadata": {},
   "outputs": [],
   "source": []
  },
  {
   "cell_type": "code",
   "execution_count": null,
   "id": "526fe952-a660-4926-aad4-765ec6fd27d2",
   "metadata": {},
   "outputs": [],
   "source": []
  }
 ],
 "metadata": {
  "kernelspec": {
   "display_name": "Python 3 (ipykernel)",
   "language": "python",
   "name": "python3"
  },
  "language_info": {
   "codemirror_mode": {
    "name": "ipython",
    "version": 3
   },
   "file_extension": ".py",
   "mimetype": "text/x-python",
   "name": "python",
   "nbconvert_exporter": "python",
   "pygments_lexer": "ipython3",
   "version": "3.8.13"
  }
 },
 "nbformat": 4,
 "nbformat_minor": 5
}
