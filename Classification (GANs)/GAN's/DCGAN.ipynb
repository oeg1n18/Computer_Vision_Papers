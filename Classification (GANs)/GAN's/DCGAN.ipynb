{
 "cells": [
  {
   "cell_type": "code",
   "execution_count": 1,
   "id": "a9014edc-f419-4833-a0a4-1ea6825cf774",
   "metadata": {},
   "outputs": [
    {
     "name": "stderr",
     "output_type": "stream",
     "text": [
      "C:\\Users\\olive\\miniconda3\\envs\\torch_env\\lib\\site-packages\\tqdm\\auto.py:22: TqdmWarning: IProgress not found. Please update jupyter and ipywidgets. See https://ipywidgets.readthedocs.io/en/stable/user_install.html\n",
      "  from .autonotebook import tqdm as notebook_tqdm\n"
     ]
    },
    {
     "data": {
      "text/plain": [
       "\"C:\\\\Users\\\\olive\\\\OneDrive - University of Southampton\\\\Documents\\\\GitHub\\\\Computer_Vision_Papers\\\\Classification (GANs)\\\\GAN's\""
      ]
     },
     "execution_count": 1,
     "metadata": {},
     "output_type": "execute_result"
    }
   ],
   "source": [
    "from torch_snippets import *\n",
    "import torchvision \n",
    "from torchvision import transforms \n",
    "import torchvision.utils as vutils\n",
    "import cv2, numpy as np, pandas as pd\n",
    "import glob\n",
    "import os\n",
    "\n",
    "device = \"cuda\" if torch.cuda.is_available() else \"cpu\"\n",
    "os.getcwd()"
   ]
  },
  {
   "cell_type": "code",
   "execution_count": null,
   "id": "4ed76e89-7dbd-493d-a730-e194bbd494b2",
   "metadata": {},
   "outputs": [],
   "source": []
  },
  {
   "cell_type": "code",
   "execution_count": 2,
   "id": "d48dddf1-ae4d-4a47-9b71-29b182b806ac",
   "metadata": {},
   "outputs": [],
   "source": [
    "face_cascade = cv2.CascadeClassifier(cv2.data.haarcascades + 'haarcascade_frontalface_default.xml')"
   ]
  },
  {
   "cell_type": "code",
   "execution_count": 16,
   "id": "c8495334-67f4-4ff8-b627-cec50ba5f89a",
   "metadata": {},
   "outputs": [],
   "source": [
    "#!mkdir cropped_faces\n",
    "images = glob.glob(os.getcwd() + '/content/females/*.jpg') + glob.glob(os.getcwd() + '/content/males/*.jpg')\n",
    "for i in range(len(images)):\n",
    "    img = read(images[i],1)\n",
    "    gray = cv2.cvtColor(img, cv2.COLOR_BGR2GRAY)\n",
    "    faces = face_cascade.detectMultiScale(gray, 1.3, 5)\n",
    "    for (x,y,w,h) in faces:\n",
    "        img2 = img[y:(y+h),x:(x+w),:]\n",
    "        cv2.imwrite('cropped_faces/'+str(i)+'.jpg', cv2.cvtColor(img2, cv2.COLOR_RGB2BGR))\n"
   ]
  },
  {
   "cell_type": "code",
   "execution_count": 3,
   "id": "3a222ea5-1fab-418f-9179-e5fa08603205",
   "metadata": {},
   "outputs": [],
   "source": [
    "transform=transforms.Compose([\n",
    "    transforms.Resize(64),\n",
    "    transforms.CenterCrop(64),\n",
    "    transforms.ToTensor(),\n",
    "    transforms.Normalize((0.5,0.5,0.5), (0.5,0.5,0.5))])"
   ]
  },
  {
   "cell_type": "code",
   "execution_count": 4,
   "id": "d374c36c-dbed-433d-894c-5c51c0413275",
   "metadata": {},
   "outputs": [],
   "source": [
    "class Faces(Dataset):\n",
    "    def __init__(self, folder):\n",
    "        super().__init__()\n",
    "        self.folder = folder\n",
    "        self.images = sorted(Glob(folder))\n",
    "    \n",
    "    def __len__(self):\n",
    "        return len(self.images)\n",
    "    \n",
    "    def __getitem__(self, ix):\n",
    "        image_path = self.images[ix]\n",
    "        image = Image.open(image_path)\n",
    "        image = transform(image)\n",
    "        return image"
   ]
  },
  {
   "cell_type": "code",
   "execution_count": 5,
   "id": "f766bf65-b2e6-483d-b3e3-852dedab273d",
   "metadata": {},
   "outputs": [],
   "source": [
    "ds = Faces(folder='cropped_faces/')\n",
    "dataloader = DataLoader(ds, batch_size=64, shuffle=True)"
   ]
  },
  {
   "cell_type": "code",
   "execution_count": null,
   "id": "36cdb1b3-ea8c-4fbe-ba08-0beee9ce51d7",
   "metadata": {},
   "outputs": [],
   "source": []
  },
  {
   "cell_type": "code",
   "execution_count": 6,
   "id": "2b567ad1-98f0-4684-8038-5d1e945aea76",
   "metadata": {},
   "outputs": [],
   "source": [
    "def weights_init(m):\n",
    "    classname = m.__class__.__name__\n",
    "    if classname.find('Conv') != -1:\n",
    "        nn.init.normal_(m.weight.data, 0.0, 0.02)\n",
    "    elif classname.find('BatchNorm') != -1:\n",
    "        nn.init.normal_(m.weight.data, 1.0, 0.02)\n",
    "        nn.init.constant_(m.bias.data, 0)"
   ]
  },
  {
   "cell_type": "code",
   "execution_count": 7,
   "id": "52ebe1a3-592f-4873-bcf2-f5be02f3af3d",
   "metadata": {},
   "outputs": [],
   "source": [
    "class Discriminator(nn.Module):\n",
    "    def __init__(self):\n",
    "        super(Discriminator, self).__init__()\n",
    "        self.model = nn.Sequential(\n",
    "                                    nn.Conv2d(3,64,4,2,1,bias=False),\n",
    "            nn.LeakyReLU(0.2,inplace=True),\n",
    "            nn.Conv2d(64,64*2,4,2,1,bias=False),\n",
    "            nn.BatchNorm2d(64*2),\n",
    "            nn.LeakyReLU(0.2,inplace=True),\n",
    "            nn.Conv2d(64*2,64*4,4,2,1,bias=False),\n",
    "            nn.BatchNorm2d(64*4),\n",
    "            nn.LeakyReLU(0.2,inplace=True),\n",
    "            nn.Conv2d(64*4, 64*8,4,2,1,bias=False),\n",
    "            nn.BatchNorm2d(64*8),\n",
    "            nn.LeakyReLU(0.2,inplace=True),\n",
    "            nn.Conv2d(64*8,1,4,1,0,bias=False),\n",
    "            nn.Sigmoid()\n",
    "        )\n",
    "        \n",
    "        self.apply(weights_init)\n",
    "    def forward(self, input):\n",
    "        return self.model(input)"
   ]
  },
  {
   "cell_type": "code",
   "execution_count": 8,
   "id": "fa3e7bba-7519-43ac-a7f2-e8d7e126c0c4",
   "metadata": {},
   "outputs": [],
   "source": [
    "class Generator(nn.Module):\n",
    "    def __init__(self):\n",
    "        super(Generator, self).__init__()\n",
    "        self.model = nn.Sequential(\n",
    "            nn.ConvTranspose2d(100,64*8,4,1,0,bias=False,),\n",
    "            nn.BatchNorm2d(64*8),\n",
    "            nn.ReLU(True),\n",
    "            nn.ConvTranspose2d(64*8,64*4,4,2,1,bias=False),\n",
    "            nn.BatchNorm2d(64*4),\n",
    "            nn.ReLU(True),\n",
    "            nn.ConvTranspose2d(64*4,64*2,4,2,1,bias=False),\n",
    "            nn.BatchNorm2d(64*2),\n",
    "            nn.ReLU(True),\n",
    "            nn.ConvTranspose2d(64*2,64,4,2,1,bias=False),\n",
    "            nn.BatchNorm2d(64),\n",
    "            nn.ReLU(True),\n",
    "            nn.ConvTranspose2d(64,3,4,2,1,bias=False),\n",
    "            nn.Tanh()\n",
    "        )\n",
    "        self.apply(weights_init)\n",
    "        \n",
    "    def forward(self,input): return self.model(input)"
   ]
  },
  {
   "cell_type": "code",
   "execution_count": 9,
   "id": "9f6d3d44-8dbb-45a6-b52d-dd65fa71d706",
   "metadata": {},
   "outputs": [],
   "source": [
    "discriminator = Discriminator().to(device)\n",
    "generator = Generator().to(device)"
   ]
  },
  {
   "cell_type": "code",
   "execution_count": 10,
   "id": "63e9a4ec-99d4-4861-b421-db8a63f1bca4",
   "metadata": {},
   "outputs": [],
   "source": [
    "def discriminator_train_step(real_data, fake_data):\n",
    "    d_optimizer.zero_grad()\n",
    "    prediction_real = discriminator(real_data)\n",
    "    error_real = loss(prediction_real.squeeze(), torch.ones(len(real_data)).to(device))\n",
    "    error_real.backward()\n",
    "    prediction_fake = discriminator(fake_data)\n",
    "    error_fake = loss(prediction_fake.squeeze(), torch.zeros(len(fake_data)).to(device))\n",
    "    error_fake.backward()\n",
    "    d_optimizer.step()\n",
    "    return error_real + error_fake"
   ]
  },
  {
   "cell_type": "code",
   "execution_count": 11,
   "id": "56fcde0f-e145-4d32-9f28-bbc4bb3c76b1",
   "metadata": {},
   "outputs": [],
   "source": [
    "def generator_train_step(fake_data):\n",
    "    g_optimizer.zero_grad()\n",
    "    prediction = discriminator(fake_data)\n",
    "    error = loss(prediction.squeeze(), torch.ones(len(real_data)).to(device))\n",
    "    error.backward()\n",
    "    g_optimizer.step()\n",
    "    return error\n",
    "     "
   ]
  },
  {
   "cell_type": "code",
   "execution_count": 12,
   "id": "b1e6e4ca-e1ef-49d5-9443-3908f92a5d1c",
   "metadata": {},
   "outputs": [],
   "source": [
    "loss = nn.BCELoss()\n",
    "d_optimizer = optim.Adam(discriminator.parameters(), lr=0.0002, betas=(0.5, 0.999))\n",
    "g_optimizer = optim.Adam(generator.parameters(), lr=0.0002, betas=(0.5, 0.999))"
   ]
  },
  {
   "cell_type": "code",
   "execution_count": null,
   "id": "a2bc63f0-2bc0-4e13-952a-bc5645822d75",
   "metadata": {},
   "outputs": [
    {
     "name": "stdout",
     "output_type": "stream",
     "text": [
      "EPOCH: 0.267  d_loss: 0.058  g_loss: 9.194  (27.29s - 2527.90s remaining))"
     ]
    }
   ],
   "source": [
    "\n",
    "log = Report(25)\n",
    "for epoch in range(25):\n",
    "    N = len(dataloader)\n",
    "    for i, images, in enumerate(dataloader):\n",
    "        real_data = images.to(device)\n",
    "        fake_data = generator(torch.randn(len(real_data), 100, 1, 1).to(device)).to(device)\n",
    "        fake_data = fake_data.detach()\n",
    "        d_loss = discriminator_train_step(real_data, fake_data)\n",
    "        fake_data = generator(torch.randn(len(real_data), 100, 1, 1).to(device)).to(device)\n",
    "        g_loss = generator_train_step(fake_data)\n",
    "        log.record(epoch+(1+i)/N, d_loss=d_loss.item(), g_loss=g_loss.item(), end='\\r')\n",
    "    log.report_avgs(epoch+1)\n",
    "log.plot_epochs(['d_loss','g_loss'])"
   ]
  },
  {
   "cell_type": "code",
   "execution_count": null,
   "id": "a2be7ba2-1906-4db2-988c-f93afaa614c5",
   "metadata": {},
   "outputs": [],
   "source": [
    "generator.eval()\n",
    "noise = torch.randn(64, 100, 1, 1, device=device)\n",
    "sample_images = generator(noise).detach().cpu()\n",
    "grid = vutils.make_grid(sample_images, nrow=8, normalize=True)\n",
    "show(grid.cpu().detach().permute(1,2,0), sz=10, titl='Generated Images')"
   ]
  },
  {
   "cell_type": "code",
   "execution_count": null,
   "id": "dffff3d9-8425-4e31-8b0b-074db92ea97b",
   "metadata": {},
   "outputs": [],
   "source": []
  },
  {
   "cell_type": "code",
   "execution_count": null,
   "id": "526fe952-a660-4926-aad4-765ec6fd27d2",
   "metadata": {},
   "outputs": [],
   "source": []
  }
 ],
 "metadata": {
  "kernelspec": {
   "display_name": "Python 3 (ipykernel)",
   "language": "python",
   "name": "python3"
  },
  "language_info": {
   "codemirror_mode": {
    "name": "ipython",
    "version": 3
   },
   "file_extension": ".py",
   "mimetype": "text/x-python",
   "name": "python",
   "nbconvert_exporter": "python",
   "pygments_lexer": "ipython3",
   "version": "3.8.13"
  }
 },
 "nbformat": 4,
 "nbformat_minor": 5
}
